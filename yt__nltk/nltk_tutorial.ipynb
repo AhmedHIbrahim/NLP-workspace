{
  "nbformat": 4,
  "nbformat_minor": 0,
  "metadata": {
    "colab": {
      "provenance": [],
      "collapsed_sections": [
        "jMN-3zhpqhRA",
        "iBR4mS0lrjYt",
        "W6l5bQgkuaAl",
        "LWP7joITynK6",
        "SoQIrofBj4HV",
        "SaxA9DQZ3Yeb"
      ]
    },
    "kernelspec": {
      "name": "python3",
      "display_name": "Python 3"
    },
    "language_info": {
      "name": "python"
    }
  },
  "cells": [
    {
      "cell_type": "code",
      "execution_count": null,
      "metadata": {
        "colab": {
          "base_uri": "https://localhost:8080/"
        },
        "id": "6kpkyjudhD7J",
        "outputId": "6e0b1d1a-6150-4a7f-c0b5-40f3fd9d54de"
      },
      "outputs": [
        {
          "output_type": "stream",
          "name": "stdout",
          "text": [
            "Looking in indexes: https://pypi.org/simple, https://us-python.pkg.dev/colab-wheels/public/simple/\n",
            "Requirement already satisfied: nltk in /usr/local/lib/python3.7/dist-packages (3.7)\n",
            "Requirement already satisfied: click in /usr/local/lib/python3.7/dist-packages (from nltk) (7.1.2)\n",
            "Requirement already satisfied: tqdm in /usr/local/lib/python3.7/dist-packages (from nltk) (4.64.0)\n",
            "Requirement already satisfied: joblib in /usr/local/lib/python3.7/dist-packages (from nltk) (1.1.0)\n",
            "Requirement already satisfied: regex>=2021.8.3 in /usr/local/lib/python3.7/dist-packages (from nltk) (2022.6.2)\n"
          ]
        }
      ],
      "source": [
        "!pip install nltk"
      ]
    },
    {
      "cell_type": "markdown",
      "source": [
        "# Tokenizing words and sentences "
      ],
      "metadata": {
        "id": "jMN-3zhpqhRA"
      }
    },
    {
      "cell_type": "code",
      "source": [
        "import nltk\n",
        "from nltk.tokenize import sent_tokenize, word_tokenize\n",
        "nltk.download('punkt')"
      ],
      "metadata": {
        "colab": {
          "base_uri": "https://localhost:8080/"
        },
        "id": "G8bbEQmYrQzn",
        "outputId": "1c276c04-85e2-43a5-bb0c-3cc2ee8634f2"
      },
      "execution_count": null,
      "outputs": [
        {
          "output_type": "stream",
          "name": "stderr",
          "text": [
            "[nltk_data] Downloading package punkt to /root/nltk_data...\n",
            "[nltk_data]   Unzipping tokenizers/punkt.zip.\n"
          ]
        },
        {
          "output_type": "execute_result",
          "data": {
            "text/plain": [
              "True"
            ]
          },
          "metadata": {},
          "execution_count": 6
        }
      ]
    },
    {
      "cell_type": "code",
      "source": [
        "# tokenizing - word tokenizers ... sentence tokenizers\n",
        "# lexicon and corporas\n",
        "# corporea - body of text, ex: medical journals, presidential speeches, English language.\n",
        "# lexicon - words and their means"
      ],
      "metadata": {
        "id": "RrXTZXc_hJQZ"
      },
      "execution_count": null,
      "outputs": []
    },
    {
      "cell_type": "code",
      "source": [
        "\n",
        "text_sample = \"Hello Mr. Johnson, how are you doing? The weather is great and python is awesom. The sky is pinkish blue.\"\n",
        "\n",
        "print(sent_tokenize(text_sample))\n",
        "print(word_tokenize(text_sample))"
      ],
      "metadata": {
        "colab": {
          "base_uri": "https://localhost:8080/"
        },
        "id": "B58an_mrqgvQ",
        "outputId": "458fa734-ce76-421b-9f2e-d01b91d4628b"
      },
      "execution_count": null,
      "outputs": [
        {
          "output_type": "stream",
          "name": "stdout",
          "text": [
            "['Hello Mr. Johnson, how are you doing?', 'The weather is great and python is awesom.', 'The sky is pinkish blue.']\n",
            "['Hello', 'Mr.', 'Johnson', ',', 'how', 'are', 'you', 'doing', '?', 'The', 'weather', 'is', 'great', 'and', 'python', 'is', 'awesom', '.', 'The', 'sky', 'is', 'pinkish', 'blue', '.']\n"
          ]
        }
      ]
    },
    {
      "cell_type": "markdown",
      "source": [
        "# Stop words"
      ],
      "metadata": {
        "id": "iBR4mS0lrjYt"
      }
    },
    {
      "cell_type": "code",
      "source": [
        "import nltk\n",
        "nltk.download('stopwords')\n",
        "\n",
        "from nltk.corpus import stopwords\n",
        "from nltk.tokenize import word_tokenize"
      ],
      "metadata": {
        "colab": {
          "base_uri": "https://localhost:8080/"
        },
        "id": "WDpMSulJsZIU",
        "outputId": "99c55cb6-4d33-4370-8a9e-6f007ae2cc66"
      },
      "execution_count": null,
      "outputs": [
        {
          "output_type": "stream",
          "name": "stderr",
          "text": [
            "[nltk_data] Downloading package stopwords to /root/nltk_data...\n",
            "[nltk_data]   Unzipping corpora/stopwords.zip.\n"
          ]
        }
      ]
    },
    {
      "cell_type": "code",
      "source": [
        "example_sentence = \"This is an example showing off stop word filteration.\"\n",
        "stop_words = set(stopwords.words(\"english\"))\n",
        "#print(stop_words)\n",
        "\n",
        "words = word_tokenize(example_sentence)\n",
        "\n",
        "filtered_sentence = [w for w in words if w not in stop_words]\n",
        "print(filtered_sentence)"
      ],
      "metadata": {
        "colab": {
          "base_uri": "https://localhost:8080/"
        },
        "id": "cAHrcSforDeF",
        "outputId": "b09cd553-30f0-418f-f817-0972996e56e8"
      },
      "execution_count": null,
      "outputs": [
        {
          "output_type": "stream",
          "name": "stdout",
          "text": [
            "['This', 'example', 'showing', 'stop', 'word', 'filteration', '.']\n"
          ]
        }
      ]
    },
    {
      "cell_type": "markdown",
      "source": [
        "# Stemming"
      ],
      "metadata": {
        "id": "W6l5bQgkuaAl"
      }
    },
    {
      "cell_type": "code",
      "source": [
        "# reading, reads ==(stemmed to)==> read"
      ],
      "metadata": {
        "id": "bljEvso6sVNX"
      },
      "execution_count": null,
      "outputs": []
    },
    {
      "cell_type": "code",
      "source": [
        "from nltk.stem import PorterStemmer\n",
        "from nltk.tokenize import word_tokenize"
      ],
      "metadata": {
        "id": "cV0Zfel2uMhF"
      },
      "execution_count": null,
      "outputs": []
    },
    {
      "cell_type": "code",
      "source": [
        "ps = PorterStemmer()\n",
        "\n",
        "example_words = [\"developer\", \"developing\", \"develops\"]\n",
        "\n",
        "for w in example_words: \n",
        "  print(ps.stem(w))"
      ],
      "metadata": {
        "colab": {
          "base_uri": "https://localhost:8080/"
        },
        "id": "Gsaruh3YxJ_q",
        "outputId": "d4e64e9f-f911-435f-b60e-335455b508b7"
      },
      "execution_count": null,
      "outputs": [
        {
          "output_type": "stream",
          "name": "stdout",
          "text": [
            "develop\n",
            "develop\n",
            "develop\n"
          ]
        }
      ]
    },
    {
      "cell_type": "code",
      "source": [
        "new_text = \"You have to be the best developer to develop the apps; while developing take care of ;\"\n",
        "\n",
        "words = word_tokenize(new_text)\n",
        "\n",
        "post_text = \" \".join([ps.stem(w) for w in words])\n",
        "print(post_text)"
      ],
      "metadata": {
        "colab": {
          "base_uri": "https://localhost:8080/"
        },
        "id": "czxQIlTTxfkA",
        "outputId": "68885152-5fb8-43e2-be68-7c78ac1802f3"
      },
      "execution_count": null,
      "outputs": [
        {
          "output_type": "stream",
          "name": "stdout",
          "text": [
            "you have to be the best develop to develop the app ; while develop take care of ;\n"
          ]
        }
      ]
    },
    {
      "cell_type": "markdown",
      "source": [
        "# Part of Speech"
      ],
      "metadata": {
        "id": "LWP7joITynK6"
      }
    },
    {
      "cell_type": "code",
      "source": [
        "import nltk\n",
        "nltk.download('tagsets')\n",
        "nltk.download('state_union')\n",
        "nltk.download('averaged_perceptron_tagger')\n",
        "\n",
        "from nltk.corpus import state_union\n",
        "from nltk.tokenize import PunktSentenceTokenizer"
      ],
      "metadata": {
        "colab": {
          "base_uri": "https://localhost:8080/"
        },
        "id": "rsmiPG67yRnm",
        "outputId": "be1f0a20-a1be-4fb6-ca20-8138273eb9a0"
      },
      "execution_count": null,
      "outputs": [
        {
          "output_type": "stream",
          "name": "stderr",
          "text": [
            "[nltk_data] Downloading package tagsets to /root/nltk_data...\n",
            "[nltk_data]   Unzipping help/tagsets.zip.\n",
            "[nltk_data] Downloading package state_union to /root/nltk_data...\n",
            "[nltk_data]   Package state_union is already up-to-date!\n",
            "[nltk_data] Downloading package averaged_perceptron_tagger to\n",
            "[nltk_data]     /root/nltk_data...\n",
            "[nltk_data]   Package averaged_perceptron_tagger is already up-to-\n",
            "[nltk_data]       date!\n"
          ]
        }
      ]
    },
    {
      "cell_type": "code",
      "source": [
        "#help(state_union)\n",
        "train_text = state_union.raw(\"/content/sample_data/joe-biden-march-2022\")\n",
        "sample_text = state_union.raw(\"/content/sample_data/joe-biden-sep-2022\")"
      ],
      "metadata": {
        "id": "8pyISCbpHfnL"
      },
      "execution_count": null,
      "outputs": []
    },
    {
      "cell_type": "code",
      "source": [
        "from google.colab import drive\n",
        "drive.mount('/content/drive')"
      ],
      "metadata": {
        "id": "hW6XnQyOjGxl"
      },
      "execution_count": null,
      "outputs": []
    },
    {
      "cell_type": "code",
      "source": [
        "custom_sent_tokenizer = PunktSentenceTokenizer(train_text) # train \n",
        "\n",
        "tokenized = custom_sent_tokenizer.tokenize(sample_text) # "
      ],
      "metadata": {
        "id": "m8_hIvKEh5dE"
      },
      "execution_count": null,
      "outputs": []
    },
    {
      "cell_type": "code",
      "source": [
        "def process_content():\n",
        "   try: \n",
        "    for i in tokenized:\n",
        "      words = nltk.word_tokenize(i)\n",
        "      tagged = nltk.pos_tag(words)\n",
        "      print(tagged)   \n",
        "   except Exception as e:\n",
        "     print(e)\n",
        "\n",
        "process_content()"
      ],
      "metadata": {
        "colab": {
          "base_uri": "https://localhost:8080/"
        },
        "id": "vvHmowep1mCx",
        "outputId": "cabba25a-6100-4bb8-c5db-99d930f893ba"
      },
      "execution_count": null,
      "outputs": [
        {
          "output_type": "stream",
          "name": "stdout",
          "text": [
            "[('My', 'PRP$'), ('fellow', 'JJ'), ('Americans', 'NNPS'), (',', ','), ('please', 'VB'), (',', ','), ('if', 'IN'), ('you', 'PRP'), ('have', 'VBP'), ('a', 'DT'), ('seat', 'NN'), (',', ','), ('take', 'VB'), ('it', 'PRP'), ('.', '.')]\n",
            "[('I', 'PRP'), ('speak', 'VBP'), ('to', 'TO'), ('you', 'PRP'), ('tonight', 'VBN'), ('from', 'IN'), ('sacred', 'VBN'), ('ground', 'NN'), ('in', 'IN'), ('America', 'NNP'), (':', ':'), ('Independence', 'NNP'), ('Hall', 'NNP'), ('in', 'IN'), ('Philadelphia', 'NNP'), (',', ','), ('Pennsylvania', 'NNP'), ('.', '.')]\n",
            "[('This', 'DT'), ('is', 'VBZ'), ('where', 'WRB'), ('America', 'NNP'), ('made', 'VBD'), ('its', 'PRP$'), ('Declaration', 'NNP'), ('of', 'IN'), ('Independence', 'NNP'), ('to', 'TO'), ('the', 'DT'), ('world', 'NN'), ('more', 'JJR'), ('than', 'IN'), ('two', 'CD'), ('centuries', 'NNS'), ('ago', 'IN'), ('with', 'IN'), ('an', 'DT'), ('idea', 'NN'), (',', ','), ('unique', 'JJ'), ('among', 'IN'), ('nations', 'NNS'), (',', ','), ('that', 'IN'), ('in', 'IN'), ('America', 'NNP'), (',', ','), ('weâ\\x80\\x99re', 'VBZ'), ('all', 'RB'), ('created', 'VBN'), ('equal', 'JJ'), ('.', '.')]\n",
            "[('This', 'DT'), ('is', 'VBZ'), ('where', 'WRB'), ('the', 'DT'), ('United', 'NNP'), ('States', 'NNPS'), ('Constitution', 'NNP'), ('was', 'VBD'), ('written', 'VBN'), ('and', 'CC'), ('debated', 'VBN'), ('.', '.')]\n",
            "[('This', 'DT'), ('is', 'VBZ'), ('where', 'WRB'), ('we', 'PRP'), ('set', 'VBD'), ('in', 'IN'), ('motion', 'NN'), ('the', 'DT'), ('most', 'RBS'), ('extraordinary', 'JJ'), ('experiment', 'NN'), ('of', 'IN'), ('self-government', 'JJ'), ('the', 'DT'), ('world', 'NN'), ('has', 'VBZ'), ('ever', 'RB'), ('known', 'VBN'), ('with', 'IN'), ('three', 'CD'), ('simple', 'JJ'), ('words', 'NNS'), (':', ':'), ('â\\x80\\x9cWe', 'NN'), (',', ','), ('the', 'DT'), ('People.â\\x80\\x9d', 'NNP'), ('â\\x80\\x9cWe', 'NNP'), (',', ','), ('the', 'DT'), ('People.â\\x80\\x9d', 'NNP'), ('These', 'DT'), ('two', 'CD'), ('documents', 'NNS'), ('and', 'CC'), ('the', 'DT'), ('ideas', 'NNS'), ('they', 'PRP'), ('embodyâ\\x80\\x94equality', 'VBP'), ('and', 'CC'), ('democracyâ\\x80\\x94are', 'VBP'), ('the', 'DT'), ('rock', 'NN'), ('upon', 'NN'), ('which', 'WDT'), ('this', 'DT'), ('nation', 'NN'), ('is', 'VBZ'), ('built', 'VBN'), ('.', '.')]\n",
            "[('They', 'PRP'), ('are', 'VBP'), ('how', 'WRB'), ('we', 'PRP'), ('became', 'VBD'), ('the', 'DT'), ('greatest', 'JJS'), ('nation', 'NN'), ('on', 'IN'), ('Earth', 'NNP'), ('.', '.')]\n",
            "[('They', 'PRP'), ('are', 'VBP'), ('why', 'WRB'), (',', ','), ('for', 'IN'), ('more', 'JJR'), ('than', 'IN'), ('two', 'CD'), ('centuries', 'NNS'), (',', ','), ('America', 'NNP'), ('has', 'VBZ'), ('been', 'VBN'), ('a', 'DT'), ('beacon', 'NN'), ('to', 'TO'), ('the', 'DT'), ('world', 'NN'), ('.', '.')]\n",
            "[('But', 'CC'), ('as', 'IN'), ('I', 'PRP'), ('stand', 'VBP'), ('here', 'RB'), ('tonight', 'VBN'), (',', ','), ('equality', 'NN'), ('and', 'CC'), ('democracy', 'NN'), ('are', 'VBP'), ('under', 'IN'), ('assault', 'NN'), ('.', '.')]\n",
            "[('We', 'PRP'), ('do', 'VBP'), ('ourselves', 'PRP'), ('no', 'DT'), ('favor', 'NN'), ('to', 'TO'), ('pretend', 'VB'), ('otherwise', 'RB'), ('.', '.')]\n",
            "[('So', 'RB'), ('tonight', 'JJ'), (',', ','), ('I', 'PRP'), ('have', 'VBP'), ('come', 'VBN'), ('this', 'DT'), ('place', 'NN'), ('where', 'WRB'), ('it', 'PRP'), ('all', 'DT'), ('began', 'VBD'), ('to', 'TO'), ('speak', 'VB'), ('as', 'RB'), ('plainly', 'RB'), ('as', 'IN'), ('I', 'PRP'), ('can', 'MD'), ('to', 'TO'), ('the', 'DT'), ('nation', 'NN'), ('about', 'IN'), ('the', 'DT'), ('threats', 'NNS'), ('we', 'PRP'), ('face', 'VBP'), (',', ','), ('about', 'IN'), ('the', 'DT'), ('power', 'NN'), ('we', 'PRP'), ('have', 'VBP'), ('in', 'IN'), ('our', 'PRP$'), ('own', 'JJ'), ('hands', 'NNS'), ('to', 'TO'), ('meet', 'VB'), ('these', 'DT'), ('threats', 'NNS'), (',', ','), ('and', 'CC'), ('about', 'IN'), ('the', 'DT'), ('incredible', 'JJ'), ('future', 'NN'), ('that', 'WDT'), ('lies', 'VBZ'), ('in', 'IN'), ('front', 'NN'), ('of', 'IN'), ('us', 'PRP'), ('if', 'IN'), ('only', 'RB'), ('we', 'PRP'), ('choose', 'VBP'), ('it', 'PRP'), ('.', '.')]\n",
            "[('We', 'PRP'), ('must', 'MD'), ('never', 'RB'), ('forget', 'VB'), (':', ':'), ('We', 'PRP'), (',', ','), ('the', 'DT'), ('people', 'NNS'), (',', ','), ('are', 'VBP'), ('the', 'DT'), ('true', 'JJ'), ('heirs', 'NN'), ('of', 'IN'), ('the', 'DT'), ('American', 'JJ'), ('experiment', 'NN'), ('that', 'WDT'), ('began', 'VBD'), ('more', 'JJR'), ('than', 'IN'), ('two', 'CD'), ('centuries', 'NNS'), ('ago', 'RB'), ('.', '.')]\n",
            "[('We', 'PRP'), (',', ','), ('the', 'DT'), ('people', 'NNS'), (',', ','), ('have', 'VBP'), ('burning', 'VBG'), ('inside', 'IN'), ('each', 'DT'), ('of', 'IN'), ('us', 'PRP'), ('the', 'DT'), ('flame', 'NN'), ('of', 'IN'), ('liberty', 'NN'), ('that', 'WDT'), ('was', 'VBD'), ('lit', 'VBN'), ('here', 'RB'), ('at', 'IN'), ('Independence', 'NNP'), ('Hallâ\\x80\\x94a', 'NNP'), ('flame', 'NN'), ('that', 'WDT'), ('lit', 'VBD'), ('our', 'PRP$'), ('way', 'NN'), ('through', 'IN'), ('abolition', 'NN'), (',', ','), ('the', 'DT'), ('Civil', 'NNP'), ('War', 'NNP'), (',', ','), ('Suffrage', 'NNP'), (',', ','), ('the', 'DT'), ('Great', 'NNP'), ('Depression', 'NNP'), (',', ','), ('world', 'NN'), ('wars', 'NNS'), (',', ','), ('Civil', 'NNP'), ('Rights', 'NNP'), ('.', '.')]\n",
            "[('That', 'DT'), ('sacred', 'VBD'), ('flame', 'NN'), ('still', 'RB'), ('burns', 'VBZ'), ('now', 'RB'), ('in', 'IN'), ('our', 'PRP$'), ('time', 'NN'), ('as', 'IN'), ('we', 'PRP'), ('build', 'VBP'), ('an', 'DT'), ('America', 'NNP'), ('that', 'WDT'), ('is', 'VBZ'), ('more', 'RBR'), ('prosperous', 'JJ'), (',', ','), ('free', 'JJ'), (',', ','), ('and', 'CC'), ('just', 'RB'), ('.', '.')]\n",
            "[('That', 'DT'), ('is', 'VBZ'), ('the', 'DT'), ('work', 'NN'), ('of', 'IN'), ('my', 'PRP$'), ('presidency', 'NN'), (',', ','), ('a', 'DT'), ('mission', 'NN'), ('I', 'PRP'), ('believe', 'VBP'), ('in', 'IN'), ('with', 'IN'), ('my', 'PRP$'), ('whole', 'JJ'), ('soul', 'NN'), ('.', '.')]\n",
            "[('But', 'CC'), ('first', 'JJ'), (',', ','), ('we', 'PRP'), ('must', 'MD'), ('be', 'VB'), ('honest', 'JJ'), ('with', 'IN'), ('each', 'DT'), ('other', 'JJ'), ('and', 'CC'), ('with', 'IN'), ('ourselves', 'NNS'), ('.', '.')]\n",
            "[('Too', 'RB'), ('much', 'JJ'), ('of', 'IN'), ('whatâ\\x80\\x99s', 'JJ'), ('happening', 'VBG'), ('in', 'IN'), ('our', 'PRP$'), ('country', 'NN'), ('today', 'NN'), ('is', 'VBZ'), ('not', 'RB'), ('normal', 'JJ'), ('.', '.')]\n",
            "[('Donald', 'NNP'), ('Trump', 'NNP'), ('and', 'CC'), ('the', 'DT'), ('MAGA', 'NNP'), ('Republicans', 'NNPS'), ('represent', 'VBP'), ('an', 'DT'), ('extremism', 'NN'), ('that', 'WDT'), ('threatens', 'VBZ'), ('the', 'DT'), ('very', 'JJ'), ('foundations', 'NNS'), ('of', 'IN'), ('our', 'PRP$'), ('republic', 'NN'), ('.', '.')]\n",
            "[('Now', 'RB'), (',', ','), ('I', 'PRP'), ('want', 'VBP'), ('to', 'TO'), ('be', 'VB'), ('very', 'RB'), ('clearâ\\x80\\x94very', 'RB'), ('clear', 'JJ'), ('up', 'RP'), ('front', 'NN'), (':', ':'), ('Not', 'RB'), ('every', 'DT'), ('Republican', 'NNP'), (',', ','), ('not', 'RB'), ('even', 'RB'), ('the', 'DT'), ('majority', 'NN'), ('of', 'IN'), ('Republicans', 'NNPS'), (',', ','), ('are', 'VBP'), ('MAGA', 'NNP'), ('Republicans', 'NNPS'), ('.', '.')]\n",
            "[('Not', 'RB'), ('every', 'DT'), ('Republican', 'JJ'), ('embraces', 'NNS'), ('their', 'PRP$'), ('extreme', 'JJ'), ('ideology', 'NN'), ('.', '.')]\n",
            "[('I', 'PRP'), ('know', 'VBP'), ('because', 'IN'), ('Iâ\\x80\\x99ve', 'NNP'), ('been', 'VBN'), ('able', 'JJ'), ('to', 'TO'), ('work', 'VB'), ('with', 'IN'), ('these', 'DT'), ('mainstream', 'NNS'), ('Republicans', 'NNPS'), ('.', '.')]\n",
            "[('But', 'CC'), ('there', 'EX'), ('is', 'VBZ'), ('no', 'DT'), ('question', 'NN'), ('that', 'IN'), ('the', 'DT'), ('Republican', 'NNP'), ('Party', 'NNP'), ('today', 'NN'), ('is', 'VBZ'), ('dominated', 'VBN'), (',', ','), ('driven', 'VBN'), (',', ','), ('and', 'CC'), ('intimidated', 'VBN'), ('by', 'IN'), ('Donald', 'NNP'), ('Trump', 'NNP'), ('and', 'CC'), ('the', 'DT'), ('MAGA', 'NNP'), ('Republicans', 'NNPS'), (',', ','), ('and', 'CC'), ('that', 'DT'), ('is', 'VBZ'), ('a', 'DT'), ('threat', 'NN'), ('to', 'TO'), ('this', 'DT'), ('country', 'NN'), ('.', '.')]\n",
            "[('These', 'DT'), ('are', 'VBP'), ('hard', 'JJ'), ('things', 'NNS'), ('.', '.')]\n",
            "[('But', 'CC'), ('Iâ\\x80\\x99m', 'NNP'), ('an', 'DT'), ('American', 'JJ'), ('Presidentâ\\x80\\x94not', 'NNP'), ('the', 'DT'), ('President', 'NNP'), ('of', 'IN'), ('red', 'JJ'), ('America', 'NNP'), ('or', 'CC'), ('blue', 'NN'), ('America', 'NNP'), (',', ','), ('but', 'CC'), ('of', 'IN'), ('all', 'DT'), ('America', 'NNP'), ('.', '.')]\n",
            "[('And', 'CC'), ('I', 'PRP'), ('believe', 'VBP'), ('it', 'PRP'), ('is', 'VBZ'), ('my', 'PRP$'), ('dutyâ\\x80\\x94my', 'JJ'), ('duty', 'NN'), ('to', 'TO'), ('level', 'VB'), ('with', 'IN'), ('you', 'PRP'), (',', ','), ('to', 'TO'), ('tell', 'VB'), ('the', 'DT'), ('truth', 'NN'), ('no', 'DT'), ('matter', 'NN'), ('how', 'WRB'), ('difficult', 'JJ'), (',', ','), ('no', 'DT'), ('matter', 'NN'), ('how', 'WRB'), ('painful', 'JJ'), ('.', '.')]\n",
            "[('And', 'CC'), ('here', 'RB'), (',', ','), ('in', 'IN'), ('my', 'PRP$'), ('view', 'NN'), (',', ','), ('is', 'VBZ'), ('what', 'WP'), ('is', 'VBZ'), ('true', 'JJ'), (':', ':'), ('MAGA', 'NN'), ('Republicans', 'NNPS'), ('do', 'VBP'), ('not', 'RB'), ('respect', 'VB'), ('the', 'DT'), ('Constitution', 'NNP'), ('.', '.')]\n",
            "[('They', 'PRP'), ('do', 'VBP'), ('not', 'RB'), ('believe', 'VB'), ('in', 'IN'), ('the', 'DT'), ('rule', 'NN'), ('of', 'IN'), ('law', 'NN'), ('.', '.')]\n",
            "[('They', 'PRP'), ('do', 'VBP'), ('not', 'RB'), ('recognize', 'VB'), ('the', 'DT'), ('will', 'MD'), ('of', 'IN'), ('the', 'DT'), ('people', 'NNS'), ('.', '.')]\n",
            "[('They', 'PRP'), ('refuse', 'VBP'), ('to', 'TO'), ('accept', 'VB'), ('the', 'DT'), ('results', 'NNS'), ('of', 'IN'), ('a', 'DT'), ('free', 'JJ'), ('election', 'NN'), ('.', '.')]\n",
            "[('And', 'CC'), ('theyâ\\x80\\x99re', 'VB'), ('working', 'VBG'), ('right', 'RB'), ('now', 'RB'), (',', ','), ('as', 'IN'), ('I', 'PRP'), ('speak', 'VBP'), (',', ','), ('in', 'IN'), ('state', 'NN'), ('after', 'IN'), ('state', 'NN'), ('to', 'TO'), ('give', 'VB'), ('power', 'NN'), ('to', 'TO'), ('decide', 'VB'), ('elections', 'NNS'), ('in', 'IN'), ('America', 'NNP'), ('to', 'TO'), ('partisans', 'NNS'), ('and', 'CC'), ('cronies', 'NNS'), (',', ','), ('empowering', 'VBG'), ('election', 'NN'), ('deniers', 'NNS'), ('to', 'TO'), ('undermine', 'VB'), ('democracy', 'NN'), ('itself', 'PRP'), ('.', '.')]\n",
            "[('MAGA', 'NNP'), ('forces', 'NNS'), ('are', 'VBP'), ('determined', 'VBN'), ('to', 'TO'), ('take', 'VB'), ('this', 'DT'), ('country', 'NN'), ('backwardsâ\\x80\\x94backwards', 'VBZ'), ('to', 'TO'), ('an', 'DT'), ('America', 'NNP'), ('where', 'WRB'), ('there', 'EX'), ('is', 'VBZ'), ('no', 'DT'), ('right', 'NN'), ('to', 'TO'), ('choose', 'VB'), (',', ','), ('no', 'DT'), ('right', 'NN'), ('to', 'TO'), ('privacy', 'NN'), (',', ','), ('no', 'DT'), ('right', 'NN'), ('to', 'TO'), ('contraception', 'NN'), (',', ','), ('no', 'DT'), ('right', 'NN'), ('to', 'TO'), ('marry', 'VB'), ('who', 'WP'), ('you', 'PRP'), ('love', 'VBP'), ('.', '.')]\n",
            "[('They', 'PRP'), ('promote', 'VBP'), ('authoritarian', 'JJ'), ('leaders', 'NNS'), (',', ','), ('and', 'CC'), ('they', 'PRP'), ('fan', 'VBP'), ('the', 'DT'), ('flames', 'NNS'), ('of', 'IN'), ('political', 'JJ'), ('violence', 'NN'), ('that', 'WDT'), ('are', 'VBP'), ('a', 'DT'), ('threat', 'NN'), ('to', 'TO'), ('our', 'PRP$'), ('personal', 'JJ'), ('rights', 'NNS'), (',', ','), ('to', 'TO'), ('the', 'DT'), ('pursuit', 'NN'), ('of', 'IN'), ('justice', 'NN'), (',', ','), ('to', 'TO'), ('the', 'DT'), ('rule', 'NN'), ('of', 'IN'), ('law', 'NN'), (',', ','), ('to', 'TO'), ('the', 'DT'), ('very', 'RB'), ('soul', 'NN'), ('of', 'IN'), ('this', 'DT'), ('country', 'NN'), ('.', '.')]\n",
            "[('They', 'PRP'), ('look', 'VBP'), ('at', 'IN'), ('the', 'DT'), ('mob', 'NN'), ('that', 'WDT'), ('stormed', 'VBD'), ('the', 'DT'), ('United', 'NNP'), ('States', 'NNPS'), ('Capitol', 'NNP'), ('on', 'IN'), ('January', 'NNP'), ('6thâ\\x80\\x94brutally', 'CD'), ('attacking', 'VBG'), ('law', 'NN'), ('enforcementâ\\x80\\x94not', 'NN'), ('as', 'IN'), ('insurrectionists', 'NNS'), ('who', 'WP'), ('placed', 'VBD'), ('a', 'DT'), ('dagger', 'NN'), ('to', 'TO'), ('the', 'DT'), ('throat', 'NN'), ('of', 'IN'), ('our', 'PRP$'), ('democracy', 'NN'), (',', ','), ('but', 'CC'), ('they', 'PRP'), ('look', 'VBP'), ('at', 'IN'), ('them', 'PRP'), ('as', 'IN'), ('patriots', 'NNS'), ('.', '.')]\n",
            "[('And', 'CC'), ('they', 'PRP'), ('see', 'VBP'), ('their', 'PRP$'), ('MAGA', 'JJ'), ('failure', 'NN'), ('to', 'TO'), ('stop', 'VB'), ('a', 'DT'), ('peaceful', 'JJ'), ('transfer', 'NN'), ('of', 'IN'), ('power', 'NN'), ('after', 'IN'), ('the', 'DT'), ('2020', 'CD'), ('election', 'NN'), ('as', 'IN'), ('preparation', 'NN'), ('for', 'IN'), ('the', 'DT'), ('2022', 'CD'), ('and', 'CC'), ('2024', 'CD'), ('elections', 'NNS'), ('.', '.')]\n",
            "[('They', 'PRP'), ('tried', 'VBD'), ('everything', 'NN'), ('last', 'JJ'), ('time', 'NN'), ('to', 'TO'), ('nullify', 'VB'), ('the', 'DT'), ('votes', 'NNS'), ('of', 'IN'), ('81', 'CD'), ('million', 'CD'), ('people', 'NNS'), ('.', '.')]\n",
            "[('This', 'DT'), ('time', 'NN'), (',', ','), ('theyâ\\x80\\x99re', 'NN'), ('determined', 'VBD'), ('to', 'TO'), ('succeed', 'VB'), ('in', 'IN'), ('thwarting', 'VBG'), ('the', 'DT'), ('will', 'MD'), ('of', 'IN'), ('the', 'DT'), ('people', 'NNS'), ('.', '.')]\n",
            "[('Thatâ\\x80\\x99s', 'NNP'), ('why', 'WRB'), ('respected', 'VBN'), ('conservatives', 'NNS'), (',', ','), ('like', 'IN'), ('Federal', 'NNP'), ('Circuit', 'NNP'), ('Court', 'NNP'), ('Judge', 'NNP'), ('Michael', 'NNP'), ('Luttig', 'NNP'), (',', ','), ('has', 'VBZ'), ('called', 'VBN'), ('Trump', 'NNP'), ('and', 'CC'), ('the', 'DT'), ('extreme', 'JJ'), ('MAGA', 'NNP'), ('Republicans', 'NNPS'), (',', ','), ('quote', 'NN'), (',', ','), ('a', 'DT'), ('â\\x80\\x9cclear', 'JJ'), ('and', 'CC'), ('present', 'JJ'), ('dangerâ\\x80\\x9d', 'NN'), ('to', 'TO'), ('our', 'PRP$'), ('democracy', 'NN'), ('.', '.')]\n",
            "[('But', 'CC'), ('while', 'IN'), ('the', 'DT'), ('threat', 'NN'), ('to', 'TO'), ('American', 'NNP'), ('democracy', 'NN'), ('is', 'VBZ'), ('real', 'JJ'), (',', ','), ('I', 'PRP'), ('want', 'VBP'), ('to', 'TO'), ('say', 'VB'), ('as', 'RB'), ('clearly', 'RB'), ('as', 'IN'), ('we', 'PRP'), ('can', 'MD'), (':', ':'), ('We', 'PRP'), ('are', 'VBP'), ('not', 'RB'), ('powerless', 'RB'), ('in', 'IN'), ('the', 'DT'), ('face', 'NN'), ('of', 'IN'), ('these', 'DT'), ('threats', 'NNS'), ('.', '.')]\n",
            "[('We', 'PRP'), ('are', 'VBP'), ('not', 'RB'), ('bystanders', 'NNS'), ('in', 'IN'), ('this', 'DT'), ('ongoing', 'JJ'), ('attack', 'NN'), ('on', 'IN'), ('democracy', 'NN'), ('.', '.')]\n",
            "[('There', 'EX'), ('are', 'VBP'), ('far', 'RB'), ('more', 'JJR'), ('Americansâ\\x80\\x94far', 'NNP'), ('more', 'JJR'), ('Americans', 'NNS'), ('from', 'IN'), ('everyâ\\x80\\x94from', 'JJ'), ('every', 'DT'), ('background', 'NN'), ('and', 'CC'), ('belief', 'NN'), ('who', 'WP'), ('reject', 'VBP'), ('the', 'DT'), ('extreme', 'JJ'), ('MAGA', 'NNP'), ('ideology', 'NN'), ('than', 'IN'), ('those', 'DT'), ('that', 'WDT'), ('accept', 'VBP'), ('it', 'PRP'), ('.', '.')]\n",
            "[('And', 'CC'), (',', ','), ('folks', 'NNS'), (',', ','), ('it', 'PRP'), ('is', 'VBZ'), ('within', 'IN'), ('our', 'PRP$'), ('power', 'NN'), (',', ','), ('itâ\\x80\\x99s', 'NN'), ('in', 'IN'), ('our', 'PRP$'), ('handsâ\\x80\\x94yours', 'NNS'), ('and', 'CC'), ('mineâ\\x80\\x94to', 'VB'), ('stop', 'VB'), ('the', 'DT'), ('assault', 'NN'), ('on', 'IN'), ('American', 'JJ'), ('democracy', 'NN'), ('.', '.')]\n",
            "[('I', 'PRP'), ('believe', 'VBP'), ('America', 'NNP'), ('is', 'VBZ'), ('at', 'IN'), ('an', 'DT'), ('inflection', 'NN'), ('pointâ\\x80\\x94one', 'NN'), ('of', 'IN'), ('those', 'DT'), ('moments', 'NNS'), ('that', 'WDT'), ('determine', 'VBP'), ('the', 'DT'), ('shape', 'NN'), ('of', 'IN'), ('everything', 'NN'), ('thatâ\\x80\\x99s', 'NN'), ('to', 'TO'), ('come', 'VB'), ('after', 'IN'), ('.', '.')]\n",
            "[('And', 'CC'), ('now', 'RB'), ('America', 'NNP'), ('must', 'MD'), ('choose', 'VB'), (':', ':'), ('to', 'TO'), ('move', 'VB'), ('forward', 'RB'), ('or', 'CC'), ('to', 'TO'), ('move', 'VB'), ('backwards', 'NNS'), ('?', '.')]\n",
            "[('To', 'TO'), ('build', 'VB'), ('the', 'DT'), ('future', 'NN'), ('or', 'CC'), ('obsess', 'NN'), ('about', 'IN'), ('the', 'DT'), ('past', 'NN'), ('?', '.')]\n",
            "[('To', 'TO'), ('be', 'VB'), ('a', 'DT'), ('nation', 'NN'), ('of', 'IN'), ('hope', 'NN'), ('and', 'CC'), ('unity', 'NN'), ('and', 'CC'), ('optimism', 'NN'), (',', ','), ('or', 'CC'), ('a', 'DT'), ('nation', 'NN'), ('of', 'IN'), ('fear', 'NN'), (',', ','), ('division', 'NN'), (',', ','), ('and', 'CC'), ('of', 'IN'), ('darkness', 'NN'), ('?', '.')]\n",
            "[('MAGA', 'NNP'), ('Republicans', 'NNPS'), ('have', 'VBP'), ('made', 'VBN'), ('their', 'PRP$'), ('choice', 'NN'), ('.', '.')]\n",
            "[('They', 'PRP'), ('embrace', 'VBP'), ('anger', 'NN'), ('.', '.')]\n",
            "[('They', 'PRP'), ('thrive', 'VBP'), ('on', 'IN'), ('chaos', 'NN'), ('.', '.')]\n",
            "[('They', 'PRP'), ('live', 'VBP'), ('not', 'RB'), ('in', 'IN'), ('the', 'DT'), ('light', 'NN'), ('of', 'IN'), ('truth', 'NN'), ('but', 'CC'), ('in', 'IN'), ('the', 'DT'), ('shadow', 'NN'), ('of', 'IN'), ('lies', 'NNS'), ('.', '.')]\n",
            "[('But', 'CC'), ('togetherâ\\x80\\x94together', 'RB'), (',', ','), ('we', 'PRP'), ('can', 'MD'), ('choose', 'VB'), ('a', 'DT'), ('different', 'JJ'), ('path', 'NN'), ('.', '.')]\n",
            "[('We', 'PRP'), ('can', 'MD'), ('choose', 'VB'), ('a', 'DT'), ('better', 'JJR'), ('path', 'NN'), ('.', '.')]\n",
            "[('Forward', 'RB'), (',', ','), ('to', 'TO'), ('the', 'DT'), ('future', 'NN'), ('.', '.')]\n",
            "[('A', 'DT'), ('future', 'NN'), ('of', 'IN'), ('possibility', 'NN'), ('.', '.')]\n",
            "[('A', 'DT'), ('future', 'NN'), ('to', 'TO'), ('build', 'VB'), ('and', 'CC'), ('dream', 'NN'), ('and', 'CC'), ('hope', 'NN'), ('.', '.')]\n",
            "[('And', 'CC'), ('weâ\\x80\\x99re', 'VB'), ('on', 'IN'), ('that', 'DT'), ('path', 'NN'), (',', ','), ('moving', 'VBG'), ('ahead', 'RB'), ('.', '.')]\n",
            "[('I', 'PRP'), ('know', 'VBP'), ('this', 'DT'), ('nation', 'NN'), ('.', '.')]\n",
            "[('I', 'PRP'), ('know', 'VBP'), ('you', 'PRP'), (',', ','), ('the', 'DT'), ('American', 'JJ'), ('people', 'NNS'), ('.', '.')]\n",
            "[('I', 'PRP'), ('know', 'VBP'), ('your', 'PRP$'), ('courage', 'NN'), ('.', '.')]\n",
            "[('I', 'PRP'), ('know', 'VBP'), ('your', 'PRP$'), ('hearts', 'NNS'), ('.', '.')]\n",
            "[('And', 'CC'), ('I', 'PRP'), ('know', 'VBP'), ('our', 'PRP$'), ('history', 'NN'), ('.', '.')]\n",
            "[('This', 'DT'), ('is', 'VBZ'), ('a', 'DT'), ('nation', 'NN'), ('that', 'IN'), ('honors', 'VBZ'), ('our', 'PRP$'), ('Constitution', 'NN'), ('.', '.')]\n",
            "[('We', 'PRP'), ('do', 'VBP'), ('not', 'RB'), ('reject', 'VB'), ('it', 'PRP'), ('.', '.')]\n",
            "[('This', 'DT'), ('is', 'VBZ'), ('a', 'DT'), ('nation', 'NN'), ('that', 'WDT'), ('believes', 'VBZ'), ('in', 'IN'), ('the', 'DT'), ('rule', 'NN'), ('of', 'IN'), ('law', 'NN'), ('.', '.')]\n",
            "[('We', 'PRP'), ('do', 'VBP'), ('not', 'RB'), ('repudiate', 'VB'), ('it', 'PRP'), ('.', '.')]\n",
            "[('This', 'DT'), ('is', 'VBZ'), ('a', 'DT'), ('nation', 'NN'), ('that', 'WDT'), ('respects', 'VBZ'), ('free', 'JJ'), ('and', 'CC'), ('fair', 'JJ'), ('elections', 'NNS'), ('.', '.')]\n",
            "[('We', 'PRP'), ('honor', 'VBP'), ('the', 'DT'), ('will', 'MD'), ('of', 'IN'), ('the', 'DT'), ('people', 'NNS'), ('.', '.')]\n",
            "[('We', 'PRP'), ('do', 'VBP'), ('not', 'RB'), ('deny', 'VB'), ('it', 'PRP'), ('.', '.')]\n",
            "[('And', 'CC'), ('this', 'DT'), ('is', 'VBZ'), ('a', 'DT'), ('nation', 'NN'), ('that', 'WDT'), ('rejects', 'VBZ'), ('violence', 'NN'), ('as', 'IN'), ('a', 'DT'), ('political', 'JJ'), ('tool', 'NN'), ('.', '.')]\n",
            "[('We', 'PRP'), ('do', 'VBP'), ('not', 'RB'), ('encourage', 'VB'), ('violence', 'NN'), ('.', '.')]\n",
            "[('We', 'PRP'), ('are', 'VBP'), ('still', 'RB'), ('an', 'DT'), ('America', 'NNP'), ('that', 'WDT'), ('believes', 'VBZ'), ('in', 'IN'), ('honesty', 'NN'), ('and', 'CC'), ('decency', 'NN'), ('and', 'CC'), ('respect', 'NN'), ('for', 'IN'), ('others', 'NNS'), (',', ','), ('patriotism', 'NN'), (',', ','), ('liberty', 'NN'), (',', ','), ('justice', 'NN'), ('for', 'IN'), ('all', 'DT'), (',', ','), ('hope', 'NN'), (',', ','), ('possibilities', 'NNS'), ('.', '.')]\n",
            "[('We', 'PRP'), ('are', 'VBP'), ('still', 'RB'), (',', ','), ('at', 'IN'), ('our', 'PRP$'), ('core', 'NN'), (',', ','), ('a', 'DT'), ('democracy', 'NN'), ('.', '.')]\n",
            "[('And', 'CC'), ('yet', 'RB'), ('history', 'NN'), ('tells', 'NNS'), ('us', 'PRP'), ('that', 'IN'), ('blind', 'VBZ'), ('loyalty', 'NN'), ('to', 'TO'), ('a', 'DT'), ('single', 'JJ'), ('leader', 'NN'), ('and', 'CC'), ('a', 'DT'), ('willingness', 'NN'), ('to', 'TO'), ('engage', 'VB'), ('in', 'IN'), ('political', 'JJ'), ('violence', 'NN'), ('is', 'VBZ'), ('fatal', 'JJ'), ('to', 'TO'), ('democracy', 'NN'), ('.', '.')]\n",
            "[('For', 'IN'), ('a', 'DT'), ('long', 'JJ'), ('time', 'NN'), (',', ','), ('weâ\\x80\\x99ve', 'WP'), ('told', 'VBD'), ('ourselves', 'PRP'), ('that', 'IN'), ('American', 'NNP'), ('democracy', 'NN'), ('is', 'VBZ'), ('guaranteed', 'VBN'), (',', ','), ('but', 'CC'), ('itâ\\x80\\x99s', 'VBZ'), ('not', 'RB'), ('.', '.')]\n",
            "[('We', 'PRP'), ('have', 'VBP'), ('to', 'TO'), ('defend', 'VB'), ('it', 'PRP'), (',', ','), ('protect', 'VB'), ('it', 'PRP'), (',', ','), ('stand', 'VB'), ('up', 'RP'), ('for', 'IN'), ('itâ\\x80\\x94each', 'NN'), ('and', 'CC'), ('every', 'DT'), ('one', 'CD'), ('of', 'IN'), ('us', 'PRP'), ('.', '.')]\n",
            "[('Thatâ\\x80\\x99s', 'NNP'), ('why', 'WRB'), ('tonight', 'NN'), ('Iâ\\x80\\x99m', 'NNP'), ('asking', 'VBG'), ('our', 'PRP$'), ('nation', 'NN'), ('to', 'TO'), ('come', 'VB'), ('together', 'RB'), (',', ','), ('unite', 'JJ'), ('behind', 'IN'), ('the', 'DT'), ('single', 'JJ'), ('purpose', 'NN'), ('of', 'IN'), ('defending', 'VBG'), ('our', 'PRP$'), ('democracy', 'NN'), ('regardless', 'RB'), ('of', 'IN'), ('your', 'PRP$'), ('ideology', 'NN'), ('.', '.')]\n",
            "[('Weâ\\x80\\x99re', 'NNP'), ('all', 'DT'), ('called', 'VBN'), (',', ','), ('by', 'IN'), ('duty', 'NN'), ('and', 'CC'), ('conscience', 'NN'), (',', ','), ('to', 'TO'), ('confront', 'VB'), ('extremists', 'NNS'), ('who', 'WP'), ('will', 'MD'), ('put', 'VB'), ('their', 'PRP$'), ('own', 'JJ'), ('pursuit', 'NN'), ('of', 'IN'), ('power', 'NN'), ('above', 'IN'), ('all', 'DT'), ('else', 'RB'), ('.', '.')]\n",
            "[('Democrats', 'NNPS'), (',', ','), ('independents', 'NNS'), (',', ','), ('mainstream', 'JJ'), ('Republicans', 'NNPS'), (':', ':'), ('We', 'PRP'), ('must', 'MD'), ('be', 'VB'), ('stronger', 'JJR'), (',', ','), ('more', 'RBR'), ('determined', 'JJ'), (',', ','), ('and', 'CC'), ('more', 'RBR'), ('committed', 'JJ'), ('to', 'TO'), ('saving', 'VBG'), ('American', 'NNP'), ('democracy', 'NN'), ('than', 'IN'), ('MAGA', 'NNP'), ('Republicans', 'NNPS'), ('are', 'VBP'), ('toâ\\x80\\x94to', 'JJ'), ('destroying', 'VBG'), ('American', 'JJ'), ('democracy', 'NN'), ('.', '.')]\n",
            "[('We', 'PRP'), (',', ','), ('the', 'DT'), ('people', 'NNS'), (',', ','), ('will', 'MD'), ('not', 'RB'), ('let', 'VB'), ('anyone', 'NN'), ('or', 'CC'), ('anything', 'NN'), ('tear', 'JJ'), ('us', 'PRP'), ('apart', 'RB'), ('.', '.')]\n",
            "[('Today', 'NN'), (',', ','), ('there', 'EX'), ('are', 'VBP'), ('dangers', 'NNS'), ('around', 'IN'), ('us', 'PRP'), ('we', 'PRP'), ('can', 'MD'), ('not', 'RB'), ('allow', 'VB'), ('to', 'TO'), ('prevail', 'VB'), ('.', '.')]\n",
            "[('We', 'PRP'), ('hearâ\\x80\\x94youâ\\x80\\x99ve', 'VBP'), ('heard', 'VBN'), ('itâ\\x80\\x94more', 'NN'), ('and', 'CC'), ('more', 'JJR'), ('talk', 'NN'), ('about', 'IN'), ('violence', 'NN'), ('as', 'IN'), ('an', 'DT'), ('acceptable', 'JJ'), ('political', 'JJ'), ('tool', 'NN'), ('in', 'IN'), ('this', 'DT'), ('country', 'NN'), ('.', '.')]\n",
            "[('Itâ\\x80\\x99s', 'NNP'), ('not', 'RB'), ('.', '.')]\n",
            "[('It', 'PRP'), ('can', 'MD'), ('never', 'RB'), ('be', 'VB'), ('an', 'DT'), ('acceptable', 'JJ'), ('tool', 'NN'), ('.', '.')]\n",
            "[('So', 'RB'), ('I', 'PRP'), ('want', 'VBP'), ('to', 'TO'), ('say', 'VB'), ('this', 'DT'), ('plain', 'NN'), ('and', 'CC'), ('simple', 'NN'), (':', ':'), ('There', 'EX'), ('is', 'VBZ'), ('no', 'DT'), ('place', 'NN'), ('for', 'IN'), ('political', 'JJ'), ('violence', 'NN'), ('in', 'IN'), ('America', 'NNP'), ('.', '.')]\n",
            "[('Period', 'NN'), ('.', '.')]\n",
            "[('None', 'NN'), ('.', '.')]\n",
            "[('Ever', 'RB'), ('.', '.')]\n",
            "[('We', 'PRP'), ('saw', 'VBD'), ('law', 'NN'), ('enforcement', 'NN'), ('brutally', 'RB'), ('attacked', 'VBD'), ('on', 'IN'), ('January', 'NNP'), ('the', 'DT'), ('6th', 'CD'), ('.', '.')]\n",
            "[('Weâ\\x80\\x99ve', 'NNP'), ('seen', 'VBN'), ('election', 'NN'), ('officials', 'NNS'), (',', ','), ('poll', 'VBP'), ('workersâ\\x80\\x94many', 'NN'), ('of', 'IN'), ('them', 'PRP'), ('volunteers', 'NNS'), ('of', 'IN'), ('both', 'DT'), ('partiesâ\\x80\\x94subjected', 'VBN'), ('to', 'TO'), ('intimidation', 'NN'), ('and', 'CC'), ('death', 'NN'), ('threats', 'NNS'), ('.', '.')]\n",
            "[('Andâ\\x80\\x94can', 'NNP'), ('you', 'PRP'), ('believe', 'VBP'), ('it', 'PRP'), ('?', '.'), ('â\\x80\\x94FBI', 'JJ'), ('agents', 'NNS'), ('just', 'RB'), ('doing', 'VBG'), ('their', 'PRP$'), ('job', 'NN'), ('as', 'IN'), ('directed', 'VBN'), (',', ','), ('facing', 'VBG'), ('threats', 'NNS'), ('to', 'TO'), ('their', 'PRP$'), ('own', 'JJ'), ('lives', 'NNS'), ('from', 'IN'), ('their', 'PRP$'), ('own', 'JJ'), ('fellow', 'NN'), ('citizens', 'NNS'), ('.', '.')]\n",
            "[('On', 'IN'), ('top', 'NN'), ('of', 'IN'), ('that', 'DT'), (',', ','), ('there', 'EX'), ('are', 'VBP'), ('public', 'JJ'), ('figuresâ\\x80\\x94today', 'NN'), (',', ','), ('yesterday', 'NN'), (',', ','), ('and', 'CC'), ('the', 'DT'), ('day', 'NN'), ('beforeâ\\x80\\x94predicting', 'NN'), ('and', 'CC'), ('all', 'DT'), ('but', 'CC'), ('calling', 'VBG'), ('for', 'IN'), ('mass', 'NN'), ('violence', 'NN'), ('and', 'CC'), ('rioting', 'NN'), ('in', 'IN'), ('the', 'DT'), ('streets', 'NNS'), ('.', '.')]\n",
            "[('This', 'DT'), ('is', 'VBZ'), ('inflammatory', 'JJ'), ('.', '.')]\n",
            "[('Itâ\\x80\\x99s', 'NNP'), ('dangerous', 'JJ'), ('.', '.')]\n",
            "[('Itâ\\x80\\x99s', 'NNP'), ('against', 'IN'), ('the', 'DT'), ('rule', 'NN'), ('of', 'IN'), ('law', 'NN'), ('.', '.')]\n",
            "[('And', 'CC'), ('we', 'PRP'), (',', ','), ('the', 'DT'), ('people', 'NNS'), (',', ','), ('must', 'MD'), ('say', 'VB'), (':', ':'), ('This', 'DT'), ('is', 'VBZ'), ('not', 'RB'), ('who', 'WP'), ('we', 'PRP'), ('are', 'VBP'), ('.', '.')]\n",
            "[('Ladies', 'NNS'), ('and', 'CC'), ('gentlemen', 'NNS'), (',', ','), ('we', 'PRP'), ('canâ\\x80\\x99t', 'VBP'), ('be', 'VB'), ('pro-insurrectionist', 'JJ'), ('and', 'CC'), ('pro-American', 'JJ'), ('.', '.')]\n",
            "[('Theyâ\\x80\\x99re', 'NNP'), ('incompatible', 'JJ'), ('.', '.')]\n",
            "[('We', 'PRP'), ('canâ\\x80\\x99t', 'VBP'), ('allow', 'JJ'), ('violence', 'NN'), ('to', 'TO'), ('be', 'VB'), ('normalized', 'VBN'), ('in', 'IN'), ('this', 'DT'), ('country', 'NN'), ('.', '.')]\n",
            "[('Itâ\\x80\\x99s', 'NNP'), ('wrong', 'JJ'), ('.', '.')]\n",
            "[('We', 'PRP'), ('each', 'DT'), ('have', 'VBP'), ('to', 'TO'), ('reject', 'VB'), ('political', 'JJ'), ('violence', 'NN'), ('with', 'IN'), ('all', 'PDT'), ('the', 'DT'), ('moral', 'JJ'), ('clarity', 'NN'), ('and', 'CC'), ('conviction', 'NN'), ('this', 'DT'), ('nation', 'NN'), ('can', 'MD'), ('muster', 'VB'), ('.', '.')]\n",
            "[('Now', 'RB'), ('.', '.')]\n",
            "[('We', 'PRP'), ('canâ\\x80\\x99t', 'VBP'), ('let', 'VB'), ('the', 'DT'), ('integrity', 'NN'), ('of', 'IN'), ('our', 'PRP$'), ('elections', 'NNS'), ('be', 'VB'), ('undermined', 'VBN'), (',', ','), ('for', 'IN'), ('that', 'DT'), ('is', 'VBZ'), ('a', 'DT'), ('path', 'NN'), ('to', 'TO'), ('chaos', 'NN'), ('.', '.')]\n",
            "[('Look', 'NNP'), (',', ','), ('I', 'PRP'), ('know', 'VBP'), ('politics', 'NNS'), ('can', 'MD'), ('be', 'VB'), ('fierce', 'JJ'), ('and', 'CC'), ('mean', 'JJ'), ('and', 'CC'), ('nasty', 'JJ'), ('in', 'IN'), ('America', 'NNP'), ('.', '.')]\n",
            "[('I', 'PRP'), ('get', 'VBP'), ('it', 'PRP'), ('.', '.')]\n",
            "[('I', 'PRP'), ('believe', 'VBP'), ('in', 'IN'), ('the', 'DT'), ('give-and-take', 'NN'), ('of', 'IN'), ('politics', 'NNS'), (',', ','), ('in', 'IN'), ('disagreement', 'NN'), ('and', 'CC'), ('debate', 'NN'), ('and', 'CC'), ('dissent', 'NN'), ('.', '.')]\n",
            "[('Weâ\\x80\\x99re', 'WRB'), ('a', 'DT'), ('big', 'JJ'), (',', ','), ('complicated', 'JJ'), ('country', 'NN'), ('.', '.')]\n",
            "[('But', 'CC'), ('democracy', 'NN'), ('endures', 'VBZ'), ('only', 'RB'), ('if', 'IN'), ('we', 'PRP'), (',', ','), ('the', 'DT'), ('people', 'NNS'), (',', ','), ('respect', 'VBP'), ('the', 'DT'), ('guardrails', 'NNS'), ('of', 'IN'), ('the', 'DT'), ('republic', 'NN'), ('.', '.')]\n",
            "[('Only', 'RB'), ('if', 'IN'), ('we', 'PRP'), (',', ','), ('the', 'DT'), ('people', 'NNS'), (',', ','), ('accept', 'IN'), ('the', 'DT'), ('results', 'NNS'), ('of', 'IN'), ('free', 'JJ'), ('and', 'CC'), ('fair', 'JJ'), ('elections', 'NNS'), ('.', '.')]\n",
            "[('Only', 'RB'), ('if', 'IN'), ('we', 'PRP'), (',', ','), ('the', 'DT'), ('people', 'NNS'), (',', ','), ('see', 'VBP'), ('politics', 'NNS'), ('not', 'RB'), ('as', 'IN'), ('total', 'JJ'), ('war', 'NN'), ('but', 'CC'), ('mediation', 'NN'), ('of', 'IN'), ('our', 'PRP$'), ('differences', 'NNS'), ('.', '.')]\n",
            "[('Democracy', 'NN'), ('can', 'MD'), ('not', 'RB'), ('survive', 'VB'), ('when', 'WRB'), ('one', 'CD'), ('side', 'NN'), ('believes', 'VBZ'), ('there', 'EX'), ('are', 'VBP'), ('only', 'RB'), ('two', 'CD'), ('outcomes', 'NNS'), ('to', 'TO'), ('an', 'DT'), ('election', 'NN'), (':', ':'), ('either', 'CC'), ('they', 'PRP'), ('win', 'VBP'), ('or', 'CC'), ('they', 'PRP'), ('were', 'VBD'), ('cheated', 'VBN'), ('.', '.')]\n",
            "[('And', 'CC'), ('thatâ\\x80\\x99s', 'VB'), ('where', 'WRB'), ('MAGA', 'NNP'), ('Republicans', 'NNPS'), ('are', 'VBP'), ('today', 'NN'), ('.', '.')]\n",
            "[('They', 'PRP'), ('donâ\\x80\\x99t', 'VBP'), ('understand', 'VBP'), ('what', 'WP'), ('every', 'DT'), ('patriotic', 'JJ'), ('American', 'JJ'), ('knows', 'NNS'), (':', ':'), ('You', 'PRP'), ('canâ\\x80\\x99t', 'VBP'), ('love', 'VB'), ('your', 'PRP$'), ('country', 'NN'), ('only', 'RB'), ('when', 'WRB'), ('you', 'PRP'), ('win', 'VBP'), ('.', '.')]\n",
            "[('Itâ\\x80\\x99s', 'NNP'), ('fundamental', 'NN'), ('.', '.')]\n",
            "[('American', 'NNP'), ('democracy', 'NN'), ('only', 'RB'), ('works', 'VBZ'), ('only', 'RB'), ('if', 'IN'), ('we', 'PRP'), ('choose', 'VBP'), ('to', 'TO'), ('respect', 'VB'), ('the', 'DT'), ('rule', 'NN'), ('of', 'IN'), ('law', 'NN'), ('and', 'CC'), ('the', 'DT'), ('institutions', 'NNS'), ('that', 'WDT'), ('were', 'VBD'), ('set', 'VBN'), ('up', 'RP'), ('in', 'IN'), ('this', 'DT'), ('chamber', 'NN'), ('behind', 'IN'), ('me', 'PRP'), (',', ','), ('only', 'RB'), ('if', 'IN'), ('we', 'PRP'), ('respect', 'VBP'), ('our', 'PRP$'), ('legitimate', 'JJ'), ('political', 'JJ'), ('differences', 'NNS'), ('.', '.')]\n",
            "[('I', 'PRP'), ('will', 'MD'), ('not', 'RB'), ('stand', 'VB'), ('by', 'IN'), ('and', 'CC'), ('watchâ\\x80\\x94I', 'VB'), ('will', 'MD'), ('notâ\\x80\\x94the', 'VB'), ('will', 'MD'), ('of', 'IN'), ('the', 'DT'), ('American', 'JJ'), ('people', 'NNS'), ('be', 'VB'), ('overturned', 'VBN'), ('by', 'IN'), ('wild', 'JJ'), ('conspiracy', 'NN'), ('theories', 'NNS'), ('and', 'CC'), ('baseless', 'NN'), (',', ','), ('evidence-free', 'JJ'), ('claims', 'NNS'), ('of', 'IN'), ('fraud', 'NN'), ('.', '.')]\n",
            "[('I', 'PRP'), ('will', 'MD'), ('not', 'RB'), ('stand', 'VB'), ('by', 'IN'), ('and', 'CC'), ('watch', 'VB'), ('elections', 'NNS'), ('in', 'IN'), ('this', 'DT'), ('country', 'NN'), ('stolen', 'VBN'), ('by', 'IN'), ('people', 'NNS'), ('who', 'WP'), ('simply', 'RB'), ('refuse', 'VB'), ('to', 'TO'), ('accept', 'VB'), ('that', 'IN'), ('they', 'PRP'), ('lost', 'VBD'), ('.', '.')]\n",
            "[('I', 'PRP'), ('will', 'MD'), ('not', 'RB'), ('stand', 'VB'), ('by', 'IN'), ('and', 'CC'), ('watch', 'VB'), ('the', 'DT'), ('most', 'RBS'), ('fundamental', 'JJ'), ('freedom', 'NN'), ('in', 'IN'), ('this', 'DT'), ('countryâ\\x80\\x94the', 'NN'), ('freedom', 'NN'), ('to', 'TO'), ('vote', 'VB'), ('and', 'CC'), ('have', 'VB'), ('your', 'PRP$'), ('vote', 'NN'), ('countedâ\\x80\\x94andâ\\x80\\x94be', 'VBP'), ('taken', 'VBN'), ('from', 'IN'), ('you', 'PRP'), ('and', 'CC'), ('the', 'DT'), ('American', 'JJ'), ('people', 'NNS'), ('.', '.')]\n",
            "[('Look', 'NNP'), (',', ','), ('as', 'IN'), ('your', 'PRP$'), ('President', 'NNP'), (',', ','), ('I', 'PRP'), ('will', 'MD'), ('defend', 'VB'), ('our', 'PRP$'), ('democracy', 'NN'), ('with', 'IN'), ('every', 'DT'), ('fiber', 'NN'), ('of', 'IN'), ('my', 'PRP$'), ('being', 'VBG'), (',', ','), ('and', 'CC'), ('Iâ\\x80\\x99m', 'NNP'), ('asking', 'VBG'), ('every', 'DT'), ('American', 'JJ'), ('to', 'TO'), ('join', 'VB'), ('me', 'PRP'), ('.', '.')]\n",
            "[('Throughout', 'IN'), ('our', 'PRP$'), ('history', 'NN'), (',', ','), ('America', 'NNP'), ('has', 'VBZ'), ('often', 'RB'), ('made', 'VBN'), ('the', 'DT'), ('greatest', 'JJS'), ('progress', 'NN'), ('coming', 'VBG'), ('out', 'IN'), ('of', 'IN'), ('some', 'DT'), ('of', 'IN'), ('our', 'PRP$'), ('darkest', 'JJS'), ('moments', 'NNS'), (',', ','), ('like', 'IN'), ('youâ\\x80\\x99re', 'NN'), ('hearing', 'NN'), ('in', 'IN'), ('that', 'DT'), ('bullhorn', 'NN'), ('.', '.')]\n",
            "[('I', 'PRP'), ('believe', 'VBP'), ('we', 'PRP'), ('can', 'MD'), ('and', 'CC'), ('we', 'PRP'), ('must', 'MD'), ('do', 'VB'), ('that', 'DT'), ('again', 'RB'), (',', ','), ('and', 'CC'), ('we', 'PRP'), ('are', 'VBP'), ('.', '.')]\n",
            "[('MAGA', 'NNP'), ('Republicans', 'NNPS'), ('look', 'VBP'), ('at', 'IN'), ('America', 'NNP'), ('and', 'CC'), ('see', 'VB'), ('carnage', 'NN'), ('and', 'CC'), ('darkness', 'NN'), ('and', 'CC'), ('despair', 'NN'), ('.', '.')]\n",
            "[('They', 'PRP'), ('spread', 'VBP'), ('fear', 'JJ'), ('and', 'CC'), ('liesâ\\x80\\x93-lies', 'NNS'), ('told', 'VBD'), ('for', 'IN'), ('profit', 'NN'), ('and', 'CC'), ('power', 'NN'), ('.', '.')]\n",
            "[('But', 'CC'), ('I', 'PRP'), ('see', 'VBP'), ('a', 'DT'), ('very', 'RB'), ('different', 'JJ'), ('Americaâ\\x80\\x94an', 'NNP'), ('America', 'NNP'), ('with', 'IN'), ('an', 'DT'), ('unlimited', 'JJ'), ('future', 'NN'), (',', ','), ('an', 'DT'), ('America', 'NNP'), ('that', 'WDT'), ('is', 'VBZ'), ('about', 'IN'), ('to', 'TO'), ('take', 'VB'), ('off', 'RP'), ('.', '.')]\n",
            "[('I', 'PRP'), ('hope', 'VBP'), ('you', 'PRP'), ('see', 'VBP'), ('it', 'PRP'), ('as', 'RB'), ('well', 'RB'), ('.', '.')]\n",
            "[('Just', 'RB'), ('look', 'NN'), ('around', 'RP'), ('.', '.')]\n",
            "[('I', 'PRP'), ('believed', 'VBD'), ('we', 'PRP'), ('could', 'MD'), ('lift', 'VB'), ('America', 'NNP'), ('from', 'IN'), ('the', 'DT'), ('depths', 'NNS'), ('of', 'IN'), ('COVID', 'NNP'), (',', ','), ('so', 'IN'), ('we', 'PRP'), ('passed', 'VBD'), ('the', 'DT'), ('largest', 'JJS'), ('economic', 'JJ'), ('recovery', 'NN'), ('package', 'NN'), ('since', 'IN'), ('Franklin', 'NNP'), ('Delano', 'NNP'), ('Roosevelt', 'NNP'), ('.', '.')]\n",
            "[('And', 'CC'), ('today', 'NN'), (',', ','), ('Americaâ\\x80\\x99s', 'NNP'), ('economy', 'NN'), ('is', 'VBZ'), ('faster', 'RBR'), (',', ','), ('stronger', 'JJR'), ('than', 'IN'), ('any', 'DT'), ('other', 'JJ'), ('advanced', 'JJ'), ('nation', 'NN'), ('in', 'IN'), ('the', 'DT'), ('world', 'NN'), ('.', '.')]\n",
            "[('We', 'PRP'), ('have', 'VBP'), ('more', 'JJR'), ('to', 'TO'), ('go', 'VB'), ('.', '.')]\n",
            "[('I', 'PRP'), ('believed', 'VBD'), ('we', 'PRP'), ('could', 'MD'), ('build', 'VB'), ('a', 'DT'), ('better', 'JJR'), ('America', 'NNP'), (',', ','), ('so', 'IN'), ('we', 'PRP'), ('passed', 'VBD'), ('the', 'DT'), ('biggest', 'JJS'), ('infrastructure', 'NN'), ('investment', 'NN'), ('since', 'IN'), ('President', 'NNP'), ('Dwight', 'NNP'), ('D.', 'NNP'), ('Eisenhower', 'NNP'), ('.', '.')]\n",
            "[('And', 'CC'), ('weâ\\x80\\x99ve', 'NN'), ('now', 'RB'), ('embarked', 'VBN'), ('on', 'IN'), ('a', 'DT'), ('decade', 'NN'), ('of', 'IN'), ('rebuilding', 'VBG'), ('the', 'DT'), ('nationâ\\x80\\x99s', 'JJ'), ('roads', 'NNS'), (',', ','), ('bridges', 'NNS'), (',', ','), ('highways', 'NNS'), (',', ','), ('ports', 'NNS'), (',', ','), ('water', 'NN'), ('systems', 'NNS'), (',', ','), ('high-speed', 'JJ'), ('Internet', 'NNP'), (',', ','), ('railroads', 'NNS'), ('.', '.')]\n",
            "[('I', 'PRP'), ('believed', 'VBD'), ('we', 'PRP'), ('could', 'MD'), ('make', 'VB'), ('America', 'NNP'), ('safer', 'NN'), (',', ','), ('so', 'IN'), ('we', 'PRP'), ('passed', 'VBD'), ('the', 'DT'), ('most', 'RBS'), ('significant', 'JJ'), ('gun', 'NN'), ('safety', 'NN'), ('law', 'NN'), ('since', 'IN'), ('President', 'NNP'), ('Clinton', 'NNP'), ('.', '.')]\n",
            "[('I', 'PRP'), ('believed', 'VBD'), ('we', 'PRP'), ('could', 'MD'), ('go', 'VB'), ('from', 'IN'), ('being', 'VBG'), ('the', 'DT'), ('highest', 'JJS'), ('cost', 'NN'), ('of', 'IN'), ('prescriptions', 'NNS'), ('in', 'IN'), ('the', 'DT'), ('world', 'NN'), ('to', 'TO'), ('making', 'VBG'), ('prescription', 'NN'), ('drugs', 'NNS'), ('and', 'CC'), ('healthcare', 'NN'), ('more', 'RBR'), ('affordable', 'JJ'), (',', ','), ('so', 'IN'), ('we', 'PRP'), ('passed', 'VBD'), ('the', 'DT'), ('most', 'RBS'), ('significant', 'JJ'), ('healthcare', 'NN'), ('reforms', 'NNS'), ('since', 'IN'), ('President', 'NNP'), ('Obama', 'NNP'), ('signed', 'VBD'), ('the', 'DT'), ('Affordable', 'NNP'), ('Care', 'NNP'), ('Act', 'NNP'), ('.', '.')]\n",
            "[('And', 'CC'), ('I', 'PRP'), ('believed', 'VBD'), ('we', 'PRP'), ('could', 'MD'), ('createâ\\x80\\x94we', 'VB'), ('could', 'MD'), ('create', 'VB'), ('a', 'DT'), ('clean', 'JJ'), ('energy', 'NN'), ('future', 'NN'), ('and', 'CC'), ('save', 'VB'), ('the', 'DT'), ('planet', 'NN'), (',', ','), ('so', 'IN'), ('we', 'PRP'), ('passed', 'VBD'), ('the', 'DT'), ('most', 'RBS'), ('important', 'JJ'), ('climate', 'NN'), ('initiative', 'NN'), ('ever', 'RB'), (',', ','), ('ever', 'RB'), (',', ','), ('ever', 'RB'), ('.', '.')]\n",
            "[('The', 'DT'), ('cynics', 'NNS'), ('and', 'CC'), ('the', 'DT'), ('critics', 'NNS'), ('tell', 'VBP'), ('us', 'PRP'), ('nothing', 'NN'), ('can', 'MD'), ('get', 'VB'), ('done', 'VBN'), (',', ','), ('but', 'CC'), ('they', 'PRP'), ('are', 'VBP'), ('wrong', 'JJ'), ('.', '.')]\n",
            "[('There', 'EX'), ('is', 'VBZ'), ('not', 'RB'), ('a', 'DT'), ('single', 'JJ'), ('thing', 'NN'), ('America', 'NNP'), ('can', 'MD'), ('not', 'RB'), ('doâ\\x80\\x94not', 'VB'), ('a', 'DT'), ('single', 'JJ'), ('thing', 'NN'), ('beyond', 'IN'), ('our', 'PRP$'), ('capacity', 'NN'), ('if', 'IN'), ('we', 'PRP'), ('do', 'VBP'), ('it', 'PRP'), ('together', 'RB'), ('.', '.')]\n",
            "[('Itâ\\x80\\x99s', 'NNP'), ('never', 'RB'), ('easy', 'RB'), ('.', '.')]\n",
            "[('But', 'CC'), ('weâ\\x80\\x99re', 'WRB'), ('proving', 'VBG'), ('that', 'IN'), ('in', 'IN'), ('America', 'NNP'), (',', ','), ('no', 'DT'), ('matter', 'NN'), ('how', 'WRB'), ('long', 'RB'), ('the', 'DT'), ('road', 'NN'), (',', ','), ('progress', 'NN'), ('does', 'VBZ'), ('come', 'VB'), ('.', '.')]\n",
            "[('Look', 'NNP'), (',', ','), ('I', 'PRP'), ('know', 'VBP'), ('the', 'DT'), ('last', 'JJ'), ('yearâ\\x80\\x94few', 'NN'), ('years', 'NNS'), ('have', 'VBP'), ('been', 'VBN'), ('tough', 'JJ'), ('.', '.')]\n",
            "[('But', 'CC'), ('today', 'NN'), (',', ','), ('COVID', 'NNP'), ('no', 'RB'), ('longer', 'RB'), ('controls', 'VBZ'), ('our', 'PRP$'), ('lives', 'NNS'), ('.', '.')]\n",
            "[('More', 'JJR'), ('Americans', 'NNS'), ('are', 'VBP'), ('working', 'VBG'), ('than', 'IN'), ('ever', 'RB'), ('.', '.')]\n",
            "[('Businesses', 'NNS'), ('are', 'VBP'), ('growing', 'VBG'), ('.', '.')]\n",
            "[('Our', 'PRP$'), ('schools', 'NNS'), ('are', 'VBP'), ('open', 'JJ'), ('.', '.')]\n",
            "[('Millions', 'NNS'), ('of', 'IN'), ('Americans', 'NNPS'), ('have', 'VBP'), ('been', 'VBN'), ('lifted', 'VBN'), ('out', 'IN'), ('of', 'IN'), ('poverty', 'NN'), ('.', '.')]\n",
            "[('Millions', 'NNS'), ('of', 'IN'), ('veterans', 'NNS'), ('once', 'RB'), ('exposed', 'VBN'), ('to', 'TO'), ('toxic', 'VB'), ('burn', 'NN'), ('pits', 'NNS'), ('will', 'MD'), ('now', 'RB'), ('get', 'VB'), ('what', 'WP'), ('they', 'PRP'), ('deserve', 'VBP'), ('for', 'IN'), ('their', 'PRP$'), ('families', 'NNS'), ('and', 'CC'), ('the', 'DT'), ('compensation', 'NN'), ('.', '.')]\n",
            "[('American', 'NNP'), ('manufacturing', 'NN'), ('has', 'VBZ'), ('come', 'VBN'), ('alive', 'JJ'), ('across', 'IN'), ('the', 'DT'), ('Heartland', 'NNP'), (',', ','), ('and', 'CC'), ('the', 'DT'), ('future', 'NN'), ('will', 'MD'), ('be', 'VB'), ('made', 'VBN'), ('in', 'IN'), ('Americaâ\\x80\\x94no', 'NNP'), ('matter', 'NN'), ('what', 'WP'), ('the', 'DT'), ('white', 'JJ'), ('supremacists', 'NNS'), ('and', 'CC'), ('the', 'DT'), ('extremists', 'NNS'), ('say', 'VBP'), ('.', '.')]\n",
            "[('I', 'PRP'), ('made', 'VBD'), ('a', 'DT'), ('bet', 'NN'), ('on', 'IN'), ('you', 'PRP'), (',', ','), ('the', 'DT'), ('American', 'JJ'), ('people', 'NNS'), (',', ','), ('and', 'CC'), ('that', 'IN'), ('bet', 'NN'), ('is', 'VBZ'), ('paying', 'VBG'), ('off', 'RP'), ('.', '.')]\n",
            "[('Proving', 'VBG'), ('that', 'IN'), ('from', 'IN'), ('darkness', 'NN'), ('â\\x80\\x94the', 'NNP'), ('darkness', 'NN'), ('of', 'IN'), ('Charlottesville', 'NNP'), (',', ','), ('of', 'IN'), ('COVID', 'NNP'), (',', ','), ('of', 'IN'), ('gun', 'JJ'), ('violence', 'NN'), (',', ','), ('of', 'IN'), ('insurrectionâ\\x80\\x94we', 'NN'), ('can', 'MD'), ('see', 'VB'), ('the', 'DT'), ('light', 'NN'), ('.', '.')]\n",
            "[('Light', 'NNP'), ('is', 'VBZ'), ('now', 'RB'), ('visible', 'JJ'), ('.', '.')]\n",
            "[('Light', 'NN'), ('that', 'WDT'), ('will', 'MD'), ('guide', 'VB'), ('us', 'PRP'), ('forward', 'RB'), ('not', 'RB'), ('only', 'RB'), ('in', 'IN'), ('words', 'NNS'), (',', ','), ('but', 'CC'), ('in', 'IN'), ('actionsâ\\x80\\x94actions', 'NNS'), ('for', 'IN'), ('you', 'PRP'), (',', ','), ('for', 'IN'), ('your', 'PRP$'), ('children', 'NNS'), (',', ','), ('for', 'IN'), ('your', 'PRP$'), ('grandchildren', 'NNS'), (',', ','), ('for', 'IN'), ('America', 'NNP'), ('.', '.')]\n",
            "[('Even', 'RB'), ('in', 'IN'), ('this', 'DT'), ('moment', 'NN'), (',', ','), ('with', 'IN'), ('all', 'PDT'), ('the', 'DT'), ('challenges', 'NNS'), ('we', 'PRP'), ('face', 'VBP'), (',', ','), ('I', 'PRP'), ('give', 'VBP'), ('you', 'PRP'), ('my', 'PRP$'), ('word', 'NN'), ('as', 'IN'), ('a', 'DT'), ('Biden', 'NNP'), (':', ':'), ('Iâ\\x80\\x99ve', 'NNP'), ('never', 'RB'), ('been', 'VBN'), ('more', 'RBR'), ('optimistic', 'JJ'), ('about', 'IN'), ('Americaâ\\x80\\x99s', 'NNP'), ('future', 'NN'), ('.', '.')]\n",
            "[('Not', 'RB'), ('because', 'IN'), ('of', 'IN'), ('me', 'PRP'), (',', ','), ('but', 'CC'), ('because', 'IN'), ('of', 'IN'), ('who', 'WP'), ('you', 'PRP'), ('are', 'VBP'), ('.', '.')]\n",
            "[('Weâ\\x80\\x99re', 'NNP'), ('going', 'VBG'), ('to', 'TO'), ('end', 'VB'), ('cancer', 'NN'), ('as', 'IN'), ('we', 'PRP'), ('know', 'VBP'), ('it', 'PRP'), ('.', '.')]\n",
            "[('Mark', 'NNP'), ('my', 'PRP$'), ('words', 'NNS'), ('.', '.')]\n",
            "[('We', 'PRP'), ('are', 'VBP'), ('going', 'VBG'), ('to', 'TO'), ('create', 'VB'), ('millions', 'NNS'), ('of', 'IN'), ('new', 'JJ'), ('jobs', 'NNS'), ('in', 'IN'), ('a', 'DT'), ('clean', 'JJ'), ('energy', 'NN'), ('economy', 'NN'), ('.', '.')]\n",
            "[('Weâ\\x80\\x99re', 'NNP'), ('going', 'VBG'), ('to', 'TO'), ('think', 'VB'), ('big', 'JJ'), ('.', '.')]\n",
            "[('Weâ\\x80\\x99re', 'NNP'), ('going', 'VBG'), ('to', 'TO'), ('make', 'VB'), ('the', 'DT'), ('21st', 'JJ'), ('century', 'NN'), ('another', 'DT'), ('American', 'JJ'), ('century', 'NN'), ('because', 'IN'), ('the', 'DT'), ('world', 'NN'), ('needs', 'VBZ'), ('us', 'PRP'), ('to', 'TO'), ('.', '.')]\n",
            "[('Thatâ\\x80\\x99s', 'NNP'), ('where', 'WRB'), ('we', 'PRP'), ('need', 'VBP'), ('to', 'TO'), ('focus', 'VB'), ('our', 'PRP$'), ('energyâ\\x80\\x94not', 'NN'), ('in', 'IN'), ('the', 'DT'), ('past', 'NN'), (',', ','), ('not', 'RB'), ('on', 'IN'), ('divisive', 'JJ'), ('culture', 'NN'), ('wars', 'NNS'), (',', ','), ('not', 'RB'), ('on', 'IN'), ('the', 'DT'), ('politics', 'NNS'), ('of', 'IN'), ('grievance', 'NN'), (',', ','), ('but', 'CC'), ('on', 'IN'), ('a', 'DT'), ('future', 'NN'), ('we', 'PRP'), ('can', 'MD'), ('build', 'VB'), ('together', 'RB'), ('.', '.')]\n",
            "[('The', 'DT'), ('MAGA', 'NNP'), ('Republicans', 'NNPS'), ('believe', 'VBP'), ('that', 'IN'), ('for', 'IN'), ('them', 'PRP'), ('to', 'TO'), ('succeed', 'VB'), (',', ','), ('everyone', 'NN'), ('else', 'RB'), ('has', 'VBZ'), ('to', 'TO'), ('fail', 'VB'), ('.', '.')]\n",
            "[('They', 'PRP'), ('believe', 'VBP'), ('Americaâ\\x80\\x94not', 'IN'), ('like', 'IN'), ('I', 'PRP'), ('believe', 'VBP'), ('about', 'IN'), ('America', 'NNP'), ('.', '.')]\n",
            "[('I', 'PRP'), ('believe', 'VBP'), ('America', 'NNP'), ('is', 'VBZ'), ('big', 'JJ'), ('enough', 'RB'), ('for', 'IN'), ('all', 'DT'), ('of', 'IN'), ('us', 'PRP'), ('to', 'TO'), ('succeed', 'VB'), (',', ','), ('and', 'CC'), ('that', 'DT'), ('is', 'VBZ'), ('the', 'DT'), ('nation', 'NN'), ('weâ\\x80\\x99re', 'NN'), ('building', 'NN'), (':', ':'), ('a', 'DT'), ('nation', 'NN'), ('where', 'WRB'), ('no', 'DT'), ('one', 'NN'), ('is', 'VBZ'), ('left', 'VBN'), ('behind', 'IN'), ('.', '.')]\n",
            "[('I', 'PRP'), ('ran', 'VBP'), ('for', 'IN'), ('President', 'NNP'), ('because', 'IN'), ('I', 'PRP'), ('believed', 'VBD'), ('we', 'PRP'), ('were', 'VBD'), ('in', 'IN'), ('a', 'DT'), ('battle', 'NN'), ('for', 'IN'), ('the', 'DT'), ('soul', 'NN'), ('of', 'IN'), ('this', 'DT'), ('nation', 'NN'), ('.', '.')]\n",
            "[('I', 'PRP'), ('still', 'RB'), ('believe', 'VBP'), ('that', 'IN'), ('to', 'TO'), ('be', 'VB'), ('true', 'JJ'), ('.', '.')]\n",
            "[('I', 'PRP'), ('believe', 'VBP'), ('the', 'DT'), ('soul', 'NN'), ('is', 'VBZ'), ('the', 'DT'), ('breath', 'NN'), (',', ','), ('the', 'DT'), ('life', 'NN'), (',', ','), ('and', 'CC'), ('the', 'DT'), ('essence', 'NN'), ('of', 'IN'), ('who', 'WP'), ('we', 'PRP'), ('are', 'VBP'), ('.', '.')]\n",
            "[('The', 'DT'), ('soul', 'NN'), ('is', 'VBZ'), ('what', 'WP'), ('makes', 'VBZ'), ('us', 'PRP'), ('â\\x80\\x9cus.â\\x80\\x9d', 'VB'), ('The', 'DT'), ('soul', 'NN'), ('of', 'IN'), ('America', 'NNP'), ('is', 'VBZ'), ('defined', 'VBN'), ('by', 'IN'), ('the', 'DT'), ('sacred', 'JJ'), ('proposition', 'NN'), ('that', 'IN'), ('all', 'DT'), ('are', 'VBP'), ('created', 'VBN'), ('equal', 'JJ'), ('in', 'IN'), ('the', 'DT'), ('image', 'NN'), ('of', 'IN'), ('God', 'NNP'), ('.', '.')]\n",
            "[('That', 'IN'), ('all', 'DT'), ('are', 'VBP'), ('entitled', 'VBN'), ('to', 'TO'), ('be', 'VB'), ('treated', 'VBN'), ('with', 'IN'), ('decency', 'NN'), (',', ','), ('dignity', 'NN'), (',', ','), ('and', 'CC'), ('respect', 'NN'), ('.', '.')]\n",
            "[('That', 'IN'), ('all', 'DT'), ('deserve', 'NN'), ('justice', 'NN'), ('and', 'CC'), ('a', 'DT'), ('shot', 'NN'), ('at', 'IN'), ('lives', 'NNS'), ('of', 'IN'), ('prosperity', 'NN'), ('and', 'CC'), ('consequence', 'NN'), ('.', '.')]\n",
            "[('And', 'CC'), ('that', 'DT'), ('democracyâ\\x80\\x94democracy', 'NN'), ('must', 'MD'), ('be', 'VB'), ('defended', 'VBN'), (',', ','), ('for', 'IN'), ('democracy', 'NN'), ('makes', 'VBZ'), ('all', 'PDT'), ('these', 'DT'), ('things', 'NNS'), ('possible', 'JJ'), ('.', '.')]\n",
            "[('Folks', 'NNS'), (',', ','), ('and', 'CC'), ('itâ\\x80\\x99s', 'VB'), ('up', 'RP'), ('to', 'TO'), ('us', 'PRP'), ('.', '.')]\n",
            "[('Democracy', 'NN'), ('begins', 'NNS'), ('and', 'CC'), ('will', 'MD'), ('be', 'VB'), ('preserved', 'VBN'), ('in', 'IN'), ('we', 'PRP'), (',', ','), ('the', 'DT'), ('peopleâ\\x80\\x99s', 'NN'), (',', ','), ('habits', 'NNS'), ('of', 'IN'), ('heart', 'NN'), (',', ','), ('in', 'IN'), ('our', 'PRP$'), ('character', 'NN'), (':', ':'), ('optimism', 'NN'), ('that', 'WDT'), ('is', 'VBZ'), ('tested', 'VBN'), ('yet', 'RB'), ('endures', 'NNS'), (',', ','), ('courage', 'NN'), ('that', 'WDT'), ('digs', 'VBZ'), ('deep', 'RB'), ('when', 'WRB'), ('we', 'PRP'), ('need', 'VBP'), ('it', 'PRP'), (',', ','), ('empathy', 'VBZ'), ('that', 'IN'), ('fuels', 'NNS'), ('democracy', 'NN'), (',', ','), ('the', 'DT'), ('willingness', 'NN'), ('to', 'TO'), ('see', 'VB'), ('each', 'DT'), ('other', 'JJ'), ('not', 'RB'), ('as', 'IN'), ('enemies', 'NNS'), ('but', 'CC'), ('as', 'IN'), ('fellow', 'JJ'), ('Americans', 'NNPS'), ('.', '.')]\n",
            "[('Look', 'NN'), (',', ','), ('our', 'PRP$'), ('democracy', 'NN'), ('is', 'VBZ'), ('imperfect', 'JJ'), ('.', '.')]\n",
            "[('It', 'PRP'), ('always', 'RB'), ('has', 'VBZ'), ('been', 'VBN'), ('.', '.')]\n",
            "[('Notwithstanding', 'VBG'), ('those', 'DT'), ('folks', 'NNS'), ('you', 'PRP'), ('hear', 'VBP'), ('on', 'IN'), ('the', 'DT'), ('other', 'JJ'), ('side', 'NN'), ('there', 'RB'), ('.', '.')]\n",
            "[('Theyâ\\x80\\x99re', 'NNP'), ('entitled', 'VBD'), ('to', 'TO'), ('be', 'VB'), ('outrageous', 'JJ'), ('.', '.')]\n",
            "[('This', 'DT'), ('is', 'VBZ'), ('a', 'DT'), ('democracy', 'NN'), ('.', '.')]\n",
            "[('But', 'CC'), ('history', 'NN'), ('and', 'CC'), ('common', 'JJ'), ('senseâ\\x80\\x94good', 'NN'), ('manners', 'NNS'), ('is', 'VBZ'), ('nothing', 'NN'), ('theyâ\\x80\\x99ve', 'JJ'), ('ever', 'RB'), ('suffered', 'VBD'), ('from', 'IN'), ('.', '.')]\n",
            "[('But', 'CC'), ('history', 'NN'), ('and', 'CC'), ('common', 'JJ'), ('sense', 'NN'), ('tell', 'VBP'), ('us', 'PRP'), ('that', 'IN'), ('opportunity', 'NN'), (',', ','), ('liberty', 'NN'), (',', ','), ('and', 'CC'), ('justice', 'NN'), ('for', 'IN'), ('all', 'DT'), ('are', 'VBP'), ('most', 'RBS'), ('likely', 'JJ'), ('to', 'TO'), ('come', 'VB'), ('to', 'TO'), ('pass', 'VB'), ('in', 'IN'), ('a', 'DT'), ('democracy', 'NN'), ('.', '.')]\n",
            "[('We', 'PRP'), ('have', 'VBP'), ('never', 'RB'), ('fully', 'RB'), ('realized', 'VBN'), ('the', 'DT'), ('aspirations', 'NNS'), ('of', 'IN'), ('our', 'PRP$'), ('founding', 'NN'), (',', ','), ('but', 'CC'), ('every', 'DT'), ('generation', 'NN'), ('has', 'VBZ'), ('opened', 'VBN'), ('those', 'DT'), ('doors', 'NNS'), ('a', 'DT'), ('little', 'JJ'), ('wider', 'NN'), ('to', 'TO'), ('include', 'VB'), ('more', 'JJR'), ('people', 'NNS'), ('who', 'WP'), ('have', 'VBP'), ('been', 'VBN'), ('excluded', 'VBN'), ('before', 'IN'), ('.', '.')]\n",
            "[('My', 'PRP$'), ('fellow', 'JJ'), ('Americans', 'NNPS'), (',', ','), ('America', 'NNP'), ('is', 'VBZ'), ('an', 'DT'), ('ideaâ\\x80\\x94the', 'JJ'), ('most', 'RBS'), ('powerful', 'JJ'), ('idea', 'NN'), ('in', 'IN'), ('the', 'DT'), ('history', 'NN'), ('of', 'IN'), ('the', 'DT'), ('world', 'NN'), ('.', '.')]\n",
            "[('And', 'CC'), ('it', 'PRP'), ('beats', 'VBZ'), ('in', 'IN'), ('the', 'DT'), ('hearts', 'NNS'), ('of', 'IN'), ('the', 'DT'), ('people', 'NNS'), ('of', 'IN'), ('this', 'DT'), ('country', 'NN'), ('.', '.')]\n",
            "[('It', 'PRP'), ('beats', 'VBZ'), ('in', 'IN'), ('all', 'DT'), ('of', 'IN'), ('our', 'PRP$'), ('hearts', 'NNS'), ('.', '.')]\n",
            "[('It', 'PRP'), ('unites', 'VBZ'), ('America', 'NNP'), ('.', '.')]\n",
            "[('It', 'PRP'), ('is', 'VBZ'), ('the', 'DT'), ('American', 'JJ'), ('creed', 'NN'), ('.', '.')]\n",
            "[('The', 'DT'), ('idea', 'NN'), ('that', 'IN'), ('America', 'NNP'), ('guarantees', 'NNS'), ('that', 'IN'), ('everyone', 'NN'), ('be', 'VB'), ('treated', 'VBN'), ('with', 'IN'), ('dignity', 'NN'), ('.', '.')]\n",
            "[('It', 'PRP'), ('gives', 'VBZ'), ('hate', 'JJ'), ('no', 'DT'), ('safe', 'JJ'), ('harbor', 'NN'), ('.', '.')]\n",
            "[('It', 'PRP'), ('installs', 'VBZ'), ('in', 'IN'), ('everyone', 'NN'), ('the', 'DT'), ('belief', 'NN'), ('that', 'IN'), ('no', 'DT'), ('matter', 'NN'), ('where', 'WRB'), ('you', 'PRP'), ('start', 'VBP'), ('in', 'IN'), ('life', 'NN'), (',', ','), ('thereâ\\x80\\x99s', 'VB'), ('nothing', 'NN'), ('you', 'PRP'), ('canâ\\x80\\x99t', 'VBP'), ('achieve', 'NNS'), ('.', '.')]\n",
            "[('Thatâ\\x80\\x99s', 'NN'), ('who', 'WP'), ('we', 'PRP'), ('are', 'VBP'), ('.', '.')]\n",
            "[('Thatâ\\x80\\x99s', 'VB'), ('what', 'WP'), ('we', 'PRP'), ('stand', 'VBP'), ('for', 'IN'), ('.', '.')]\n",
            "[('Thatâ\\x80\\x99s', 'VB'), ('what', 'WP'), ('we', 'PRP'), ('believe', 'VBP'), ('.', '.')]\n",
            "[('And', 'CC'), ('that', 'DT'), ('is', 'VBZ'), ('precisely', 'RB'), ('what', 'WP'), ('we', 'PRP'), ('are', 'VBP'), ('doing', 'VBG'), (':', ':'), ('opening', 'NN'), ('doors', 'NNS'), (',', ','), ('creating', 'VBG'), ('new', 'JJ'), ('possibilities', 'NNS'), (',', ','), ('focusing', 'VBG'), ('on', 'IN'), ('the', 'DT'), ('future', 'NN'), ('.', '.')]\n",
            "[('And', 'CC'), ('weâ\\x80\\x99re', 'VBZ'), ('only', 'RB'), ('just', 'RB'), ('beginning', 'VBG'), ('.', '.')]\n",
            "[('Our', 'PRP$'), ('task', 'NN'), ('is', 'VBZ'), ('to', 'TO'), ('make', 'VB'), ('our', 'PRP$'), ('nation', 'NN'), ('free', 'JJ'), ('and', 'CC'), ('fair', 'JJ'), (',', ','), ('just', 'RB'), ('and', 'CC'), ('strong', 'JJ'), (',', ','), ('noble', 'JJ'), ('and', 'CC'), ('whole', 'JJ'), ('.', '.')]\n",
            "[('And', 'CC'), ('this', 'DT'), ('work', 'NN'), ('is', 'VBZ'), ('the', 'DT'), ('work', 'NN'), ('of', 'IN'), ('democracyâ\\x80\\x94the', 'JJ'), ('work', 'NN'), ('of', 'IN'), ('this', 'DT'), ('generation', 'NN'), ('.', '.')]\n",
            "[('It', 'PRP'), ('is', 'VBZ'), ('the', 'DT'), ('work', 'NN'), ('of', 'IN'), ('our', 'PRP$'), ('time', 'NN'), (',', ','), ('for', 'IN'), ('all', 'DT'), ('time', 'NN'), ('.', '.')]\n",
            "[('We', 'PRP'), ('canâ\\x80\\x99t', 'VBP'), ('afford', 'JJ'), ('to', 'TO'), ('haveâ\\x80\\x94leave', 'VB'), ('anyone', 'NN'), ('on', 'IN'), ('the', 'DT'), ('sidelines', 'NNS'), ('.', '.')]\n",
            "[('We', 'PRP'), ('need', 'VBP'), ('everyone', 'NN'), ('to', 'TO'), ('do', 'VB'), ('their', 'PRP$'), ('part', 'NN'), ('.', '.')]\n",
            "[('So', 'RB'), ('speak', 'JJ'), ('up', 'RP'), ('.', '.')]\n",
            "[('Speak', 'NNP'), ('out', 'RP'), ('.', '.')]\n",
            "[('Get', 'NNP'), ('engaged', 'VBD'), ('.', '.')]\n",
            "[('Vote', 'NN'), (',', ','), ('vote', 'NN'), (',', ','), ('vote', 'NN'), ('.', '.')]\n",
            "[('And', 'CC'), ('if', 'IN'), ('we', 'PRP'), ('all', 'DT'), ('do', 'VBP'), ('our', 'PRP$'), ('dutyâ\\x80\\x94if', 'NN'), ('we', 'PRP'), ('do', 'VBP'), ('our', 'PRP$'), ('duty', 'NN'), ('in', 'IN'), ('2022', 'CD'), ('and', 'CC'), ('beyond', 'IN'), (',', ','), ('then', 'RB'), ('ages', 'VBZ'), ('still', 'RB'), ('to', 'TO'), ('come', 'VB'), ('will', 'MD'), ('say', 'VB'), ('weâ\\x80\\x94all', 'NN'), ('of', 'IN'), ('us', 'PRP'), ('hereâ\\x80\\x94we', 'VBP'), ('kept', 'VBD'), ('the', 'DT'), ('faith', 'NN'), ('.', '.')]\n",
            "[('We', 'PRP'), ('preserved', 'VBD'), ('democracy', 'NN'), ('.', '.')]\n",
            "[('We', 'PRP'), ('heeded', 'VBD'), ('not', 'RB'), ('our', 'PRP$'), ('worst', 'JJS'), ('instincts', 'NNS'), ('but', 'CC'), ('our', 'PRP$'), ('better', 'JJR'), ('angels', 'NNS'), ('.', '.')]\n",
            "[('And', 'CC'), ('we', 'PRP'), ('proved', 'VBD'), ('that', 'IN'), (',', ','), ('for', 'IN'), ('all', 'DT'), ('its', 'PRP$'), ('imperfections', 'NNS'), (',', ','), ('America', 'NNP'), ('is', 'VBZ'), ('still', 'RB'), ('the', 'DT'), ('beacon', 'NN'), ('to', 'TO'), ('the', 'DT'), ('world', 'NN'), (',', ','), ('an', 'DT'), ('ideal', 'NN'), ('to', 'TO'), ('be', 'VB'), ('realized', 'VBN'), (',', ','), ('a', 'DT'), ('promise', 'NN'), ('to', 'TO'), ('be', 'VB'), ('kept', 'VBN'), ('.', '.')]\n",
            "[('There', 'EX'), ('is', 'VBZ'), ('nothing', 'NN'), ('more', 'RBR'), ('important', 'JJ'), (',', ','), ('nothing', 'NN'), ('more', 'RBR'), ('sacred', 'JJ'), (',', ','), ('nothing', 'NN'), ('more', 'JJR'), ('American', 'JJ'), ('.', '.')]\n",
            "[('Thatâ\\x80\\x99s', 'NNP'), ('our', 'PRP$'), ('soul', 'NN'), ('.', '.')]\n",
            "[('Thatâ\\x80\\x99s', 'NN'), ('who', 'WP'), ('we', 'PRP'), ('truly', 'RB'), ('are', 'VBP'), ('.', '.')]\n",
            "[('And', 'CC'), ('thatâ\\x80\\x99s', 'NN'), ('who', 'WP'), ('mustâ\\x80\\x94we', 'VBZ'), ('must', 'MD'), ('always', 'RB'), ('be', 'VB'), ('.', '.')]\n",
            "[('And', 'CC'), ('I', 'PRP'), ('have', 'VBP'), ('no', 'DT'), ('doubtâ\\x80\\x94noneâ\\x80\\x93â\\x80\\x93that', 'NN'), ('this', 'DT'), ('is', 'VBZ'), ('who', 'WP'), ('we', 'PRP'), ('will', 'MD'), ('be', 'VB'), ('and', 'CC'), ('that', 'IN'), ('weâ\\x80\\x99ll', 'VBP'), ('come', 'VB'), ('together', 'RB'), ('as', 'IN'), ('a', 'DT'), ('nation', 'NN'), ('.', '.')]\n",
            "[('That', 'DT'), ('weâ\\x80\\x99ll', 'VBZ'), ('secure', 'VB'), ('our', 'PRP$'), ('democracy', 'NN'), ('.', '.')]\n",
            "[('That', 'DT'), ('for', 'IN'), ('the', 'DT'), ('next', 'JJ'), ('200', 'CD'), ('years', 'NNS'), (',', ','), ('weâ\\x80\\x99ll', 'RB'), ('have', 'VBP'), ('what', 'WP'), ('we', 'PRP'), ('had', 'VBD'), ('the', 'DT'), ('past', 'JJ'), ('200', 'CD'), ('years', 'NNS'), (':', ':'), ('the', 'DT'), ('greatest', 'JJS'), ('nation', 'NN'), ('on', 'IN'), ('the', 'DT'), ('face', 'NN'), ('of', 'IN'), ('the', 'DT'), ('Earth', 'NNP'), ('.', '.')]\n",
            "[('We', 'PRP'), ('just', 'RB'), ('need', 'VB'), ('to', 'TO'), ('remember', 'VB'), ('who', 'WP'), ('we', 'PRP'), ('are', 'VBP'), ('.', '.')]\n",
            "[('We', 'PRP'), ('are', 'VBP'), ('the', 'DT'), ('United', 'NNP'), ('States', 'NNPS'), ('of', 'IN'), ('America', 'NNP'), ('.', '.')]\n",
            "[('The', 'DT'), ('United', 'NNP'), ('States', 'NNPS'), ('of', 'IN'), ('America', 'NNP'), ('.', '.')]\n",
            "[('And', 'CC'), ('may', 'MD'), ('God', 'VB'), ('protect', 'VB'), ('our', 'PRP$'), ('nation', 'NN'), ('.', '.')]\n",
            "[('And', 'CC'), ('may', 'MD'), ('God', 'VB'), ('protect', 'VB'), ('all', 'DT'), ('those', 'DT'), ('who', 'WP'), ('stand', 'VBP'), ('watch', 'NN'), ('over', 'IN'), ('our', 'PRP$'), ('democracy', 'NN'), ('.', '.')]\n",
            "[('God', 'NNP'), ('bless', 'NN'), ('you', 'PRP'), ('all', 'DT'), ('.', '.')]\n",
            "[('Democracy', 'NN'), ('.', '.')]\n",
            "[('Thank', 'NNP'), ('you', 'PRP'), ('.', '.')]\n"
          ]
        }
      ]
    },
    {
      "cell_type": "code",
      "source": [
        "# TO KNOW THE ENGLISH AVAILABLE PART-OF-SPEECHES\n",
        "nltk.help.upenn_tagset()"
      ],
      "metadata": {
        "colab": {
          "base_uri": "https://localhost:8080/"
        },
        "id": "u1GZIqabi-rM",
        "outputId": "7b43fd7b-0f52-4c63-e4bb-cb23c1b75c2c"
      },
      "execution_count": null,
      "outputs": [
        {
          "output_type": "stream",
          "name": "stdout",
          "text": [
            "$: dollar\n",
            "    $ -$ --$ A$ C$ HK$ M$ NZ$ S$ U.S.$ US$\n",
            "'': closing quotation mark\n",
            "    ' ''\n",
            "(: opening parenthesis\n",
            "    ( [ {\n",
            "): closing parenthesis\n",
            "    ) ] }\n",
            ",: comma\n",
            "    ,\n",
            "--: dash\n",
            "    --\n",
            ".: sentence terminator\n",
            "    . ! ?\n",
            ":: colon or ellipsis\n",
            "    : ; ...\n",
            "CC: conjunction, coordinating\n",
            "    & 'n and both but either et for less minus neither nor or plus so\n",
            "    therefore times v. versus vs. whether yet\n",
            "CD: numeral, cardinal\n",
            "    mid-1890 nine-thirty forty-two one-tenth ten million 0.5 one forty-\n",
            "    seven 1987 twenty '79 zero two 78-degrees eighty-four IX '60s .025\n",
            "    fifteen 271,124 dozen quintillion DM2,000 ...\n",
            "DT: determiner\n",
            "    all an another any both del each either every half la many much nary\n",
            "    neither no some such that the them these this those\n",
            "EX: existential there\n",
            "    there\n",
            "FW: foreign word\n",
            "    gemeinschaft hund ich jeux habeas Haementeria Herr K'ang-si vous\n",
            "    lutihaw alai je jour objets salutaris fille quibusdam pas trop Monte\n",
            "    terram fiche oui corporis ...\n",
            "IN: preposition or conjunction, subordinating\n",
            "    astride among uppon whether out inside pro despite on by throughout\n",
            "    below within for towards near behind atop around if like until below\n",
            "    next into if beside ...\n",
            "JJ: adjective or numeral, ordinal\n",
            "    third ill-mannered pre-war regrettable oiled calamitous first separable\n",
            "    ectoplasmic battery-powered participatory fourth still-to-be-named\n",
            "    multilingual multi-disciplinary ...\n",
            "JJR: adjective, comparative\n",
            "    bleaker braver breezier briefer brighter brisker broader bumper busier\n",
            "    calmer cheaper choosier cleaner clearer closer colder commoner costlier\n",
            "    cozier creamier crunchier cuter ...\n",
            "JJS: adjective, superlative\n",
            "    calmest cheapest choicest classiest cleanest clearest closest commonest\n",
            "    corniest costliest crassest creepiest crudest cutest darkest deadliest\n",
            "    dearest deepest densest dinkiest ...\n",
            "LS: list item marker\n",
            "    A A. B B. C C. D E F First G H I J K One SP-44001 SP-44002 SP-44005\n",
            "    SP-44007 Second Third Three Two * a b c d first five four one six three\n",
            "    two\n",
            "MD: modal auxiliary\n",
            "    can cannot could couldn't dare may might must need ought shall should\n",
            "    shouldn't will would\n",
            "NN: noun, common, singular or mass\n",
            "    common-carrier cabbage knuckle-duster Casino afghan shed thermostat\n",
            "    investment slide humour falloff slick wind hyena override subhumanity\n",
            "    machinist ...\n",
            "NNP: noun, proper, singular\n",
            "    Motown Venneboerger Czestochwa Ranzer Conchita Trumplane Christos\n",
            "    Oceanside Escobar Kreisler Sawyer Cougar Yvette Ervin ODI Darryl CTCA\n",
            "    Shannon A.K.C. Meltex Liverpool ...\n",
            "NNPS: noun, proper, plural\n",
            "    Americans Americas Amharas Amityvilles Amusements Anarcho-Syndicalists\n",
            "    Andalusians Andes Andruses Angels Animals Anthony Antilles Antiques\n",
            "    Apache Apaches Apocrypha ...\n",
            "NNS: noun, common, plural\n",
            "    undergraduates scotches bric-a-brac products bodyguards facets coasts\n",
            "    divestitures storehouses designs clubs fragrances averages\n",
            "    subjectivists apprehensions muses factory-jobs ...\n",
            "PDT: pre-determiner\n",
            "    all both half many quite such sure this\n",
            "POS: genitive marker\n",
            "    ' 's\n",
            "PRP: pronoun, personal\n",
            "    hers herself him himself hisself it itself me myself one oneself ours\n",
            "    ourselves ownself self she thee theirs them themselves they thou thy us\n",
            "PRP$: pronoun, possessive\n",
            "    her his mine my our ours their thy your\n",
            "RB: adverb\n",
            "    occasionally unabatingly maddeningly adventurously professedly\n",
            "    stirringly prominently technologically magisterially predominately\n",
            "    swiftly fiscally pitilessly ...\n",
            "RBR: adverb, comparative\n",
            "    further gloomier grander graver greater grimmer harder harsher\n",
            "    healthier heavier higher however larger later leaner lengthier less-\n",
            "    perfectly lesser lonelier longer louder lower more ...\n",
            "RBS: adverb, superlative\n",
            "    best biggest bluntest earliest farthest first furthest hardest\n",
            "    heartiest highest largest least less most nearest second tightest worst\n",
            "RP: particle\n",
            "    aboard about across along apart around aside at away back before behind\n",
            "    by crop down ever fast for forth from go high i.e. in into just later\n",
            "    low more off on open out over per pie raising start teeth that through\n",
            "    under unto up up-pp upon whole with you\n",
            "SYM: symbol\n",
            "    % & ' '' ''. ) ). * + ,. < = > @ A[fj] U.S U.S.S.R * ** ***\n",
            "TO: \"to\" as preposition or infinitive marker\n",
            "    to\n",
            "UH: interjection\n",
            "    Goodbye Goody Gosh Wow Jeepers Jee-sus Hubba Hey Kee-reist Oops amen\n",
            "    huh howdy uh dammit whammo shucks heck anyways whodunnit honey golly\n",
            "    man baby diddle hush sonuvabitch ...\n",
            "VB: verb, base form\n",
            "    ask assemble assess assign assume atone attention avoid bake balkanize\n",
            "    bank begin behold believe bend benefit bevel beware bless boil bomb\n",
            "    boost brace break bring broil brush build ...\n",
            "VBD: verb, past tense\n",
            "    dipped pleaded swiped regummed soaked tidied convened halted registered\n",
            "    cushioned exacted snubbed strode aimed adopted belied figgered\n",
            "    speculated wore appreciated contemplated ...\n",
            "VBG: verb, present participle or gerund\n",
            "    telegraphing stirring focusing angering judging stalling lactating\n",
            "    hankerin' alleging veering capping approaching traveling besieging\n",
            "    encrypting interrupting erasing wincing ...\n",
            "VBN: verb, past participle\n",
            "    multihulled dilapidated aerosolized chaired languished panelized used\n",
            "    experimented flourished imitated reunifed factored condensed sheared\n",
            "    unsettled primed dubbed desired ...\n",
            "VBP: verb, present tense, not 3rd person singular\n",
            "    predominate wrap resort sue twist spill cure lengthen brush terminate\n",
            "    appear tend stray glisten obtain comprise detest tease attract\n",
            "    emphasize mold postpone sever return wag ...\n",
            "VBZ: verb, present tense, 3rd person singular\n",
            "    bases reconstructs marks mixes displeases seals carps weaves snatches\n",
            "    slumps stretches authorizes smolders pictures emerges stockpiles\n",
            "    seduces fizzes uses bolsters slaps speaks pleads ...\n",
            "WDT: WH-determiner\n",
            "    that what whatever which whichever\n",
            "WP: WH-pronoun\n",
            "    that what whatever whatsoever which who whom whosoever\n",
            "WP$: WH-pronoun, possessive\n",
            "    whose\n",
            "WRB: Wh-adverb\n",
            "    how however whence whenever where whereby whereever wherein whereof why\n",
            "``: opening quotation mark\n",
            "    ` ``\n"
          ]
        }
      ]
    },
    {
      "cell_type": "code",
      "source": [],
      "metadata": {
        "id": "4cgGPaj_iLi7"
      },
      "execution_count": null,
      "outputs": []
    },
    {
      "cell_type": "markdown",
      "source": [
        "# Chunking"
      ],
      "metadata": {
        "id": "SoQIrofBj4HV"
      }
    },
    {
      "cell_type": "code",
      "source": [
        "import nltk\n",
        "nltk.download('state_union')\n",
        "nltk.download('averaged_perceptron_tagger')\n",
        "\n",
        "from nltk.corpus import state_union\n",
        "from nltk.tokenize import PunktSentenceTokenizer"
      ],
      "metadata": {
        "id": "OoeFgZiUovK7",
        "outputId": "1cb44db2-f62b-4706-be8d-4a4bf7ab6814",
        "colab": {
          "base_uri": "https://localhost:8080/"
        }
      },
      "execution_count": null,
      "outputs": [
        {
          "output_type": "stream",
          "name": "stderr",
          "text": [
            "[nltk_data] Downloading package state_union to /root/nltk_data...\n",
            "[nltk_data]   Unzipping corpora/state_union.zip.\n",
            "[nltk_data] Downloading package averaged_perceptron_tagger to\n",
            "[nltk_data]     /root/nltk_data...\n",
            "[nltk_data]   Unzipping taggers/averaged_perceptron_tagger.zip.\n"
          ]
        }
      ]
    },
    {
      "cell_type": "code",
      "source": [
        "# https://www.nltk.org/book_1ed/ch07.html\n",
        "#help(state_union)\n",
        "train_text = state_union.raw(\"/content/sample_data/joe-biden-march-2022\")\n",
        "sample_text = state_union.raw(\"/content/sample_data/joe-biden-sep-2022\")\n",
        "\n",
        "\n",
        "custom_sent_tokenizer = PunktSentenceTokenizer(train_text) # train \n",
        "tokenized = custom_sent_tokenizer.tokenize(sample_text) # \n",
        "\n",
        "\n",
        "def process_content():\n",
        "   try: \n",
        "    for i in tokenized:\n",
        "      words = nltk.word_tokenize(i)\n",
        "      tagged = nltk.pos_tag(words)\n",
        "\n",
        "      chunkGram = r\"\"\"Chunk: {<RB.?>*<VB.?>*<NNP>+<NN>?}\"\"\"\n",
        "      chunkParser = nltk.RegexpParser(chunkGram)\n",
        "      \n",
        "      chunked = chunkParser.parse(tagged)\n",
        "      #print(chunked)\n",
        "   except Exception as e:\n",
        "     print(e)\n",
        "\n",
        "process_content()"
      ],
      "metadata": {
        "id": "tHcR5RaZj-T6"
      },
      "execution_count": null,
      "outputs": []
    },
    {
      "cell_type": "markdown",
      "source": [
        "# Chinking"
      ],
      "metadata": {
        "id": "SaxA9DQZ3Yeb"
      }
    },
    {
      "cell_type": "code",
      "source": [
        "# https://www.nltk.org/book_1ed/ch07.html\n",
        "#help(state_union)\n",
        "train_text = state_union.raw(\"/content/sample_data/joe-biden-march-2022\")\n",
        "sample_text = state_union.raw(\"/content/sample_data/joe-biden-sep-2022\")\n",
        "\n",
        "\n",
        "custom_sent_tokenizer = PunktSentenceTokenizer(train_text) # train \n",
        "tokenized = custom_sent_tokenizer.tokenize(sample_text) # \n",
        "\n",
        "\n",
        "def process_content():\n",
        "   try: \n",
        "    for i in tokenized:\n",
        "      words = nltk.word_tokenize(i)\n",
        "      tagged = nltk.pos_tag(words)\n",
        "\n",
        "      chunkGram = r\"\"\"Chunk: {<RB.?>*<VB.?>*<NNP>+<NN>?}\n",
        "                             }<VB.?|IN|DT|TO>+{\"\"\"\n",
        "      chunkParser = nltk.RegexpParser(chunkGram)\n",
        "      \n",
        "      chunked = chunkParser.parse(tagged)\n",
        "      #print(chunked)\n",
        "   except Exception as e:\n",
        "     print(e)\n",
        "\n",
        "process_content()"
      ],
      "metadata": {
        "id": "GSD4K76Uon5c",
        "colab": {
          "base_uri": "https://localhost:8080/",
          "height": 232
        },
        "outputId": "6ec56632-216d-47f8-bb53-10499889d539"
      },
      "execution_count": null,
      "outputs": [
        {
          "output_type": "error",
          "ename": "NameError",
          "evalue": "ignored",
          "traceback": [
            "\u001b[0;31m---------------------------------------------------------------------------\u001b[0m",
            "\u001b[0;31mNameError\u001b[0m                                 Traceback (most recent call last)",
            "\u001b[0;32m<ipython-input-1-7d566fdb4854>\u001b[0m in \u001b[0;36m<module>\u001b[0;34m\u001b[0m\n\u001b[1;32m      1\u001b[0m \u001b[0;31m# https://www.nltk.org/book_1ed/ch07.html\u001b[0m\u001b[0;34m\u001b[0m\u001b[0;34m\u001b[0m\u001b[0;34m\u001b[0m\u001b[0m\n\u001b[1;32m      2\u001b[0m \u001b[0;31m#help(state_union)\u001b[0m\u001b[0;34m\u001b[0m\u001b[0;34m\u001b[0m\u001b[0;34m\u001b[0m\u001b[0m\n\u001b[0;32m----> 3\u001b[0;31m \u001b[0mtrain_text\u001b[0m \u001b[0;34m=\u001b[0m \u001b[0mstate_union\u001b[0m\u001b[0;34m.\u001b[0m\u001b[0mraw\u001b[0m\u001b[0;34m(\u001b[0m\u001b[0;34m\"/content/sample_data/joe-biden-march-2022\"\u001b[0m\u001b[0;34m)\u001b[0m\u001b[0;34m\u001b[0m\u001b[0;34m\u001b[0m\u001b[0m\n\u001b[0m\u001b[1;32m      4\u001b[0m \u001b[0msample_text\u001b[0m \u001b[0;34m=\u001b[0m \u001b[0mstate_union\u001b[0m\u001b[0;34m.\u001b[0m\u001b[0mraw\u001b[0m\u001b[0;34m(\u001b[0m\u001b[0;34m\"/content/sample_data/joe-biden-sep-2022\"\u001b[0m\u001b[0;34m)\u001b[0m\u001b[0;34m\u001b[0m\u001b[0;34m\u001b[0m\u001b[0m\n\u001b[1;32m      5\u001b[0m \u001b[0;34m\u001b[0m\u001b[0m\n",
            "\u001b[0;31mNameError\u001b[0m: name 'state_union' is not defined"
          ]
        }
      ]
    },
    {
      "cell_type": "code",
      "source": [],
      "metadata": {
        "id": "vmgPDPnru1Lv"
      },
      "execution_count": null,
      "outputs": []
    },
    {
      "cell_type": "markdown",
      "source": [
        "# Named Entitiy Recogantion "
      ],
      "metadata": {
        "id": "gFMBiao64j50"
      }
    },
    {
      "cell_type": "code",
      "source": [
        "import nltk\n",
        "nltk.download('state_union')\n",
        "nltk.download('averaged_perceptron_tagger')\n",
        "nltk.download('punkt')\n",
        "nltk.download('maxent_ne_chunker')\n",
        "nltk.download('words')\n",
        "\n",
        "from nltk.corpus import state_union\n",
        "from nltk.tokenize import PunktSentenceTokenizer"
      ],
      "metadata": {
        "colab": {
          "base_uri": "https://localhost:8080/"
        },
        "id": "8meYfG49kg8K",
        "outputId": "0b2c3b55-839d-4bd9-e76d-12e83a863914"
      },
      "execution_count": null,
      "outputs": [
        {
          "output_type": "stream",
          "name": "stderr",
          "text": [
            "[nltk_data] Downloading package state_union to /root/nltk_data...\n",
            "[nltk_data]   Package state_union is already up-to-date!\n",
            "[nltk_data] Downloading package averaged_perceptron_tagger to\n",
            "[nltk_data]     /root/nltk_data...\n",
            "[nltk_data]   Package averaged_perceptron_tagger is already up-to-\n",
            "[nltk_data]       date!\n",
            "[nltk_data] Downloading package punkt to /root/nltk_data...\n",
            "[nltk_data]   Package punkt is already up-to-date!\n",
            "[nltk_data] Downloading package maxent_ne_chunker to\n",
            "[nltk_data]     /root/nltk_data...\n",
            "[nltk_data]   Package maxent_ne_chunker is already up-to-date!\n",
            "[nltk_data] Downloading package words to /root/nltk_data...\n",
            "[nltk_data]   Unzipping corpora/words.zip.\n"
          ]
        }
      ]
    },
    {
      "cell_type": "code",
      "source": [
        "# https://www.nltk.org/book/ch07.html#named-entity-recognition\n",
        "\n",
        "\"\"\"\n",
        "Commonly Used Types of Named Entity:\n",
        "\n",
        "ORGANIZATION\tGeorgia-Pacific Corp., WHO\n",
        "PERSON\tEddy Bonte, President Obama\n",
        "LOCATION\tMurray River, Mount Everest\n",
        "DATE\tJune, 2008-06-29\n",
        "TIME\ttwo fifty a m, 1:30 p.m.\n",
        "MONEY\t175 million Canadian Dollars, GBP 10.40\n",
        "PERCENT\ttwenty pct, 18.75 %\n",
        "FACILITY\tWashington Monument, Stonehenge\n",
        "GPE\tSouth East Asia, Midlothian\n",
        "\"\"\""
      ],
      "metadata": {
        "colab": {
          "base_uri": "https://localhost:8080/",
          "height": 37
        },
        "id": "Ygg2l7rFrIpr",
        "outputId": "f865d629-4f21-42b1-9690-c8368d287bfe"
      },
      "execution_count": null,
      "outputs": [
        {
          "output_type": "execute_result",
          "data": {
            "text/plain": [
              "'\\nNE Type:\\nOrgnaization\\nPerson\\nLocation\\nDate\\nTime \\nMoney\\nPrecent\\nFacility\\nGPE\\n'"
            ],
            "application/vnd.google.colaboratory.intrinsic+json": {
              "type": "string"
            }
          },
          "metadata": {},
          "execution_count": 13
        }
      ]
    },
    {
      "cell_type": "code",
      "source": [
        "# https://www.nltk.org/book_1ed/ch07.html\n",
        "#help(state_union)\n",
        "train_text = state_union.raw(\"/content/biden-may-2022.txt\")\n",
        "sample_text = state_union.raw(\"/content/biden-sep-2022.txt\")\n",
        "\n",
        "\n",
        "custom_sent_tokenizer = PunktSentenceTokenizer(train_text) # train \n",
        "tokenized = custom_sent_tokenizer.tokenize(sample_text) # \n",
        "\n",
        "\n",
        "def process_content():\n",
        "   try: \n",
        "    for i in tokenized:\n",
        "      words = nltk.word_tokenize(i)\n",
        "      tagged = nltk.pos_tag(words)\n",
        "\n",
        "      namedEnt = nltk.ne_chunk(tagged) # ,binary=True\n",
        "\n",
        "      print(namedEnt)\n",
        "   except Exception as e:\n",
        "     print(e)\n",
        "\n",
        "process_content()"
      ],
      "metadata": {
        "id": "lTILtrF74n9B"
      },
      "execution_count": null,
      "outputs": []
    },
    {
      "cell_type": "markdown",
      "source": [],
      "metadata": {
        "id": "RqxgWmoKupq3"
      }
    },
    {
      "cell_type": "markdown",
      "source": [
        "# Lemmatizing\n",
        "\n",
        "Lemmatization is the process of grouping together the different inflected forms of a word so they can be analyzed as a single item."
      ],
      "metadata": {
        "id": "0zug7jx5uurq"
      }
    },
    {
      "cell_type": "code",
      "source": [
        "from nltk.stem import WordNetLemmatizer\n",
        "import nltk\n",
        "\n",
        "nltk.download('wordnet')\n",
        "nltk.download('omw-1.4')"
      ],
      "metadata": {
        "id": "mqeWhVQKvfad"
      },
      "execution_count": null,
      "outputs": []
    },
    {
      "cell_type": "code",
      "source": [
        "\n",
        "lemmatizer = WordNetLemmatizer()\n",
        "\n",
        "# default pos='n' = noun\n",
        "# other options such, a=adj\n",
        "\n",
        "print(lemmatizer.lemmatize('better'))\n",
        "print(lemmatizer.lemmatize('better', pos=\"a\"))\n",
        "print(lemmatizer.lemmatize('best', pos=\"a\"), '\\n')\n",
        "print(lemmatizer.lemmatize(\"corpora\"))\n",
        "\n",
        "\n",
        "print(lemmatizer.lemmatize('run'))\n",
        "print(lemmatizer.lemmatize('run', pos=\"a\"))"
      ],
      "metadata": {
        "colab": {
          "base_uri": "https://localhost:8080/"
        },
        "id": "W7g8U8skutHf",
        "outputId": "560a0e88-9d67-4d59-e55f-4697a8d6ee42"
      },
      "execution_count": null,
      "outputs": [
        {
          "output_type": "stream",
          "name": "stdout",
          "text": [
            "better\n",
            "good\n",
            "best \n",
            "\n",
            "corpus\n",
            "run\n",
            "run\n"
          ]
        }
      ]
    },
    {
      "cell_type": "markdown",
      "source": [
        "# NLTK Corpora"
      ],
      "metadata": {
        "id": "cnJCXIhxw7UK"
      }
    },
    {
      "cell_type": "code",
      "source": [
        "from nltk.corpus import gutenberg\n",
        "from nltk.tokenize import sent_tokenize\n",
        "\n",
        "import nltk\n",
        "nltk.download('gutenberg')\n",
        "\n",
        "print(\"nltk path:: \", nltk.__file__)"
      ],
      "metadata": {
        "colab": {
          "base_uri": "https://localhost:8080/"
        },
        "id": "LtZFTQSSvFuE",
        "outputId": "9a031afa-b6d8-4a25-b43b-98ec36ada7f1"
      },
      "execution_count": null,
      "outputs": [
        {
          "output_type": "stream",
          "name": "stdout",
          "text": [
            "path::  /usr/local/lib/python3.7/dist-packages/nltk/__init__.py\n"
          ]
        },
        {
          "output_type": "stream",
          "name": "stderr",
          "text": [
            "[nltk_data] Downloading package gutenberg to /root/nltk_data...\n",
            "[nltk_data]   Package gutenberg is already up-to-date!\n"
          ]
        }
      ]
    },
    {
      "cell_type": "code",
      "source": [
        "sample = gutenberg.raw('melville-moby_dick.txt')\n",
        "\n",
        "tok = sent_tokenize(sample)\n",
        "\n",
        "print(tok[1:5])"
      ],
      "metadata": {
        "colab": {
          "base_uri": "https://localhost:8080/"
        },
        "id": "i2CAd5-MyXuC",
        "outputId": "b510f2b1-fcd8-47af-ef95-71d2746c6bd3"
      },
      "execution_count": null,
      "outputs": [
        {
          "output_type": "stream",
          "name": "stdout",
          "text": [
            "['(Supplied by a Late Consumptive Usher to a Grammar School)\\r\\n\\r\\nThe pale Usher--threadbare in coat, heart, body, and brain; I see him\\r\\nnow.', 'He was ever dusting his old lexicons and grammars, with a queer\\r\\nhandkerchief, mockingly embellished with all the gay flags of all the\\r\\nknown nations of the world.', 'He loved to dust his old grammars; it\\r\\nsomehow mildly reminded him of his mortality.', '\"While you take in hand to school others, and to teach them by what\\r\\nname a whale-fish is to be called in our tongue leaving out, through\\r\\nignorance, the letter H, which almost alone maketh the signification\\r\\nof the word, you deliver that which is not true.\"']\n"
          ]
        }
      ]
    },
    {
      "cell_type": "code",
      "source": [],
      "metadata": {
        "id": "WUEvc_Ily6P9"
      },
      "execution_count": null,
      "outputs": []
    },
    {
      "cell_type": "markdown",
      "source": [
        "# WordNet"
      ],
      "metadata": {
        "id": "Hn8V9fXo1LrW"
      }
    },
    {
      "cell_type": "code",
      "source": [
        "from nltk.corpus import wordnet"
      ],
      "metadata": {
        "id": "lOKOT1su1NPg"
      },
      "execution_count": null,
      "outputs": []
    },
    {
      "cell_type": "code",
      "source": [
        "keyword = 'good'\n",
        "\n",
        "syns = wordnet.synsets(keyword)\n",
        "\n",
        "# sysnsel\n",
        "print(syns[0].name)\n",
        "\n",
        "#just the word\n",
        "print(syns[0].lemmas()[0].name())\n",
        "\n",
        "#defination\n",
        "print(syns[0].definition())\n",
        "\n",
        "#examples\n",
        "print(syns[0].examples())\n",
        "\n",
        "\n",
        "# synonyms and antonyms\n",
        "synonyms = []\n",
        "antonyms = []\n",
        "\n",
        "for syn in wordnet.synsets(keyword):\n",
        "  for l in syn.lemmas():\n",
        "    synonyms.append(l.name())\n",
        "    if l.antonyms():\n",
        "      antonyms.append(l.antonyms()[0].name())\n",
        "\n",
        "print(set(synonyms))\n",
        "print(set(antonyms))\n",
        "\n",
        "\n",
        "# check word similarity\n",
        "w1 = wordnet.synset('ship.n.01')\n",
        "w2 = wordnet.synset('boat.n.01')\n",
        "\n",
        "print(w1.wup_similarity(w2))\n",
        "\n",
        "\n",
        "w1 = wordnet.synset('ship.n.01')\n",
        "w2 = wordnet.synset('cat.n.01')\n",
        "\n",
        "print(w1.wup_similarity(w2))\n",
        "\n",
        "\n",
        "w1 = wordnet.synset('ship.n.01')\n",
        "w2 = wordnet.synset('car.n.01')\n",
        "\n",
        "print(w1.wup_similarity(w2))"
      ],
      "metadata": {
        "colab": {
          "base_uri": "https://localhost:8080/"
        },
        "id": "3M_gFZu71iRL",
        "outputId": "3d647101-de05-4c00-a36d-6d2b72a21eeb"
      },
      "execution_count": null,
      "outputs": [
        {
          "output_type": "stream",
          "name": "stdout",
          "text": [
            "<bound method Synset.name of Synset('good.n.01')>\n",
            "good\n",
            "benefit\n",
            "['for your own good', \"what's the good of worrying?\"]\n",
            "{'goodness', 'respectable', 'right', 'serious', 'unspoiled', 'sound', 'salutary', 'in_effect', 'soundly', 'trade_good', 'expert', 'well', 'just', 'honest', 'near', 'upright', 'proficient', 'good', 'effective', 'commodity', 'full', 'unspoilt', 'secure', 'estimable', 'dear', 'safe', 'undecomposed', 'in_force', 'honorable', 'ripe', 'practiced', 'adept', 'skilful', 'thoroughly', 'beneficial', 'skillful', 'dependable'}\n",
            "{'ill', 'evilness', 'badness', 'bad', 'evil'}\n",
            "0.9090909090909091\n",
            "0.32\n",
            "0.6956521739130435\n"
          ]
        }
      ]
    },
    {
      "cell_type": "markdown",
      "source": [
        "# Text Classifcation\n"
      ],
      "metadata": {
        "id": "fi26WYfz6t26"
      }
    },
    {
      "cell_type": "code",
      "source": [
        "import nltk \n",
        "import random\n",
        "from nltk.corpus import movie_reviews\n",
        "\n",
        "nltk.download('movie_reviews')"
      ],
      "metadata": {
        "colab": {
          "base_uri": "https://localhost:8080/"
        },
        "id": "bmraiTcZ1wVQ",
        "outputId": "403b8ec1-bc55-48ee-e865-a4ff4c521840"
      },
      "execution_count": null,
      "outputs": [
        {
          "output_type": "stream",
          "name": "stderr",
          "text": [
            "[nltk_data] Downloading package movie_reviews to /root/nltk_data...\n",
            "[nltk_data]   Unzipping corpora/movie_reviews.zip.\n"
          ]
        },
        {
          "output_type": "execute_result",
          "data": {
            "text/plain": [
              "True"
            ]
          },
          "metadata": {},
          "execution_count": 1
        }
      ]
    },
    {
      "cell_type": "code",
      "source": [
        "documents = [(list(movie_reviews.words(fileid)), category)\n",
        "            for category in movie_reviews.categories()\n",
        "            for fileid in movie_reviews.fileids(category)]\n",
        "\n",
        "random.shuffle(documents)\n",
        "\n",
        "#print(documents[1])\n",
        "\n",
        "all_words = []\n",
        "for w in movie_reviews.words():\n",
        "  all_words.append(w.lower())\n",
        "\n",
        "\n",
        "all_words = nltk.FreqDist(all_words)\n",
        "\n",
        "#print(all_words.most_common(15))\n",
        "#print(all_words['stupid'])\n"
      ],
      "metadata": {
        "id": "VanM8Td17MO6"
      },
      "execution_count": null,
      "outputs": []
    },
    {
      "cell_type": "code",
      "source": [
        "# words as features for learning\n",
        "\n",
        "word_features = list(all_words.keys())[:3000]\n",
        "\n",
        "def find_features(document):\n",
        "  words = set(document)\n",
        "  features = {}\n",
        "  for w in word_features:\n",
        "    features[w] = w in words\n",
        "  return features\n",
        "\n",
        "print(find_features(movie_reviews.words('neg/cv000_29416.txt')))\n",
        "\n",
        "featuresets = [(find_features(rev), category) for (rev, category) in documents]\n",
        "\n",
        "#print(featuresets)\n",
        "\n",
        "\n",
        "# NAIVE BAYES\n",
        "training_set = featuresets[:1900]\n",
        "testing_set = featuresets[1900:]\n",
        "\n",
        "classifier = nltk.NaiveBayesClassifier.train(training_set)\n",
        "print(\"Naive Bays Algo accuracy: \", (nltk.classify.accuracy(classifier, testing_set))*100)\n",
        "print(classifier.show_most_informative_features(15))"
      ],
      "metadata": {
        "colab": {
          "base_uri": "https://localhost:8080/"
        },
        "id": "GQC7GrWM71ZT",
        "outputId": "8cab36c1-f7f2-4e95-dbe0-c5b588e28dc4"
      },
      "execution_count": null,
      "outputs": [
        {
          "output_type": "stream",
          "name": "stdout",
          "text": [
            "{'plot': True, ':': True, 'two': True, 'teen': True, 'couples': True, 'go': True, 'to': True, 'a': True, 'church': True, 'party': True, ',': True, 'drink': True, 'and': True, 'then': True, 'drive': True, '.': True, 'they': True, 'get': True, 'into': True, 'an': True, 'accident': True, 'one': True, 'of': True, 'the': True, 'guys': True, 'dies': True, 'but': True, 'his': True, 'girlfriend': True, 'continues': True, 'see': True, 'him': True, 'in': True, 'her': True, 'life': True, 'has': True, 'nightmares': True, 'what': True, \"'\": True, 's': True, 'deal': True, '?': True, 'watch': True, 'movie': True, '\"': True, 'sorta': True, 'find': True, 'out': True, 'critique': True, 'mind': True, '-': True, 'fuck': True, 'for': True, 'generation': True, 'that': True, 'touches': True, 'on': True, 'very': True, 'cool': True, 'idea': True, 'presents': True, 'it': True, 'bad': True, 'package': True, 'which': True, 'is': True, 'makes': True, 'this': True, 'review': True, 'even': True, 'harder': True, 'write': True, 'since': True, 'i': True, 'generally': True, 'applaud': True, 'films': True, 'attempt': True, 'break': True, 'mold': True, 'mess': True, 'with': True, 'your': True, 'head': True, 'such': True, '(': True, 'lost': True, 'highway': True, '&': True, 'memento': True, ')': True, 'there': True, 'are': True, 'good': True, 'ways': True, 'making': True, 'all': True, 'types': True, 'these': True, 'folks': True, 'just': True, 'didn': True, 't': True, 'snag': True, 'correctly': True, 'seem': True, 'have': True, 'taken': True, 'pretty': True, 'neat': True, 'concept': True, 'executed': True, 'terribly': True, 'so': True, 'problems': True, 'well': True, 'its': True, 'main': True, 'problem': True, 'simply': True, 'too': True, 'jumbled': True, 'starts': True, 'off': True, 'normal': True, 'downshifts': True, 'fantasy': True, 'world': True, 'you': True, 'as': True, 'audience': True, 'member': True, 'no': True, 'going': True, 'dreams': True, 'characters': True, 'coming': True, 'back': True, 'from': True, 'dead': True, 'others': True, 'who': True, 'look': True, 'like': True, 'strange': True, 'apparitions': True, 'disappearances': True, 'looooot': True, 'chase': True, 'scenes': True, 'tons': True, 'weird': True, 'things': True, 'happen': True, 'most': True, 'not': True, 'explained': True, 'now': True, 'personally': True, 'don': True, 'trying': True, 'unravel': True, 'film': True, 'every': True, 'when': True, 'does': True, 'give': True, 'me': True, 'same': True, 'clue': True, 'over': True, 'again': True, 'kind': True, 'fed': True, 'up': True, 'after': True, 'while': True, 'biggest': True, 'obviously': True, 'got': True, 'big': True, 'secret': True, 'hide': True, 'seems': True, 'want': True, 'completely': True, 'until': True, 'final': True, 'five': True, 'minutes': True, 'do': True, 'make': True, 'entertaining': True, 'thrilling': True, 'or': True, 'engaging': True, 'meantime': True, 'really': True, 'sad': True, 'part': True, 'arrow': True, 'both': True, 'dig': True, 'flicks': True, 'we': True, 'actually': True, 'figured': True, 'by': True, 'half': True, 'way': True, 'point': True, 'strangeness': True, 'did': True, 'start': True, 'little': True, 'bit': True, 'sense': True, 'still': True, 'more': True, 'guess': True, 'bottom': True, 'line': True, 'movies': True, 'should': True, 'always': True, 'sure': True, 'before': True, 'given': True, 'password': True, 'enter': True, 'understanding': True, 'mean': True, 'showing': True, 'melissa': True, 'sagemiller': True, 'running': True, 'away': True, 'visions': True, 'about': True, '20': True, 'throughout': True, 'plain': True, 'lazy': True, '!': True, 'okay': True, 'people': True, 'chasing': True, 'know': True, 'need': True, 'how': True, 'giving': True, 'us': True, 'different': True, 'offering': True, 'further': True, 'insight': True, 'down': True, 'apparently': True, 'studio': True, 'took': True, 'director': True, 'chopped': True, 'themselves': True, 'shows': True, 'might': True, 've': True, 'been': True, 'decent': True, 'here': True, 'somewhere': True, 'suits': True, 'decided': True, 'turning': True, 'music': True, 'video': True, 'edge': True, 'would': True, 'actors': True, 'although': True, 'wes': True, 'bentley': True, 'seemed': True, 'be': True, 'playing': True, 'exact': True, 'character': True, 'he': True, 'american': True, 'beauty': True, 'only': True, 'new': True, 'neighborhood': True, 'my': True, 'kudos': True, 'holds': True, 'own': True, 'entire': True, 'feeling': True, 'unraveling': True, 'overall': True, 'doesn': True, 'stick': True, 'because': True, 'entertain': True, 'confusing': True, 'rarely': True, 'excites': True, 'feels': True, 'redundant': True, 'runtime': True, 'despite': True, 'ending': True, 'explanation': True, 'craziness': True, 'came': True, 'oh': True, 'horror': True, 'slasher': True, 'flick': True, 'packaged': True, 'someone': True, 'assuming': True, 'genre': True, 'hot': True, 'kids': True, 'also': True, 'wrapped': True, 'production': True, 'years': True, 'ago': True, 'sitting': True, 'shelves': True, 'ever': True, 'whatever': True, 'skip': True, 'where': True, 'joblo': True, 'nightmare': True, 'elm': True, 'street': True, '3': True, '7': True, '/': True, '10': True, 'blair': True, 'witch': True, '2': True, 'crow': True, '9': True, 'salvation': True, '4': True, 'stir': True, 'echoes': True, '8': True, 'happy': False, 'bastard': False, 'quick': False, 'damn': False, 'y2k': False, 'bug': False, 'starring': False, 'jamie': False, 'lee': False, 'curtis': False, 'another': False, 'baldwin': False, 'brother': False, 'william': False, 'time': False, 'story': False, 'regarding': False, 'crew': False, 'tugboat': False, 'comes': False, 'across': False, 'deserted': False, 'russian': False, 'tech': False, 'ship': False, 'kick': False, 'power': False, 'within': False, 'gore': False, 'bringing': False, 'few': False, 'action': False, 'sequences': False, 'virus': False, 'empty': False, 'flash': False, 'substance': False, 'why': False, 'was': False, 'middle': False, 'nowhere': False, 'origin': False, 'pink': False, 'flashy': False, 'thing': False, 'hit': False, 'mir': False, 'course': False, 'donald': False, 'sutherland': False, 'stumbling': False, 'around': False, 'drunkenly': False, 'hey': False, 'let': False, 'some': False, 'robots': False, 'acting': False, 'below': False, 'average': False, 'likes': False, 're': False, 'likely': False, 'work': False, 'halloween': False, 'h20': False, 'wasted': False, 'real': False, 'star': False, 'stan': False, 'winston': False, 'robot': False, 'design': False, 'schnazzy': False, 'cgi': False, 'occasional': False, 'shot': False, 'picking': False, 'brain': False, 'if': False, 'body': False, 'parts': False, 'turn': False, 'otherwise': False, 'much': False, 'sunken': False, 'jaded': False, 'viewer': False, 'thankful': False, 'invention': False, 'timex': False, 'indiglo': False, 'based': False, 'late': False, '1960': False, 'television': False, 'show': False, 'name': False, 'mod': False, 'squad': False, 'tells': False, 'tale': False, 'three': False, 'reformed': False, 'criminals': False, 'under': False, 'employ': False, 'police': False, 'undercover': False, 'however': False, 'wrong': False, 'evidence': False, 'gets': False, 'stolen': False, 'immediately': False, 'suspicion': False, 'ads': False, 'cuts': False, 'claire': False, 'dane': False, 'nice': False, 'hair': False, 'cute': False, 'outfits': False, 'car': False, 'chases': False, 'stuff': False, 'blowing': False, 'sounds': False, 'first': False, 'fifteen': False, 'quickly': False, 'becomes': False, 'apparent': False, 'certainly': False, 'slick': False, 'looking': False, 'complete': False, 'costumes': False, 'isn': False, 'enough': False, 'best': False, 'described': False, 'cross': False, 'between': False, 'hour': False, 'long': False, 'cop': False, 'stretched': False, 'span': False, 'single': False, 'clich': False, 'matter': False, 'elements': False, 'recycled': False, 'everything': False, 'already': False, 'seen': False, 'nothing': False, 'spectacular': False, 'sometimes': False, 'bordering': False, 'wooden': False, 'danes': False, 'omar': False, 'epps': False, 'deliver': False, 'their': False, 'lines': False, 'bored': False, 'transfers': False, 'onto': False, 'escape': False, 'relatively': False, 'unscathed': False, 'giovanni': False, 'ribisi': False, 'plays': False, 'resident': False, 'crazy': False, 'man': False, 'ultimately': False, 'being': False, 'worth': False, 'watching': False, 'unfortunately': False, 'save': False, 'convoluted': False, 'apart': False, 'occupying': False, 'screen': False, 'young': False, 'cast': False, 'clothes': False, 'hip': False, 'soundtrack': False, 'appears': False, 'geared': False, 'towards': False, 'teenage': False, 'mindset': False, 'r': False, 'rating': False, 'content': False, 'justify': False, 'juvenile': False, 'older': False, 'information': False, 'literally': False, 'spoon': False, 'hard': False, 'instead': False, 'telling': False, 'dialogue': False, 'poorly': False, 'written': False, 'extremely': False, 'predictable': False, 'progresses': False, 'won': False, 'care': False, 'heroes': False, 'any': False, 'jeopardy': False, 'll': False, 'aren': False, 'basing': False, 'nobody': False, 'remembers': False, 'questionable': False, 'wisdom': False, 'especially': False, 'considers': False, 'target': False, 'fact': False, 'number': False, 'memorable': False, 'can': False, 'counted': False, 'hand': False, 'missing': False, 'finger': False, 'times': False, 'checked': False, 'six': False, 'clear': False, 'indication': False, 'them': False, 'than': False, 'cash': False, 'spending': False, 'dollar': False, 'judging': False, 'rash': False, 'awful': False, 'seeing': False, 'avoid': False, 'at': False, 'costs': False, 'quest': False, 'camelot': False, 'warner': False, 'bros': False, 'feature': False, 'length': False, 'fully': False, 'animated': False, 'steal': False, 'clout': False, 'disney': False, 'cartoon': False, 'empire': False, 'mouse': False, 'reason': False, 'worried': False, 'other': False, 'recent': False, 'challenger': False, 'throne': False, 'last': False, 'fall': False, 'promising': False, 'flawed': False, '20th': False, 'century': False, 'fox': False, 'anastasia': False, 'hercules': False, 'lively': False, 'colorful': False, 'palate': False, 'had': False, 'beat': False, 'hands': False, 'crown': False, '1997': False, 'piece': False, 'animation': False, 'year': False, 'contest': False, 'arrival': False, 'magic': False, 'kingdom': False, 'mediocre': False, '--': False, 'd': False, 'pocahontas': False, 'those': False, 'keeping': False, 'score': False, 'nearly': False, 'dull': False, 'revolves': False, 'adventures': False, 'free': False, 'spirited': False, 'kayley': False, 'voiced': False, 'jessalyn': False, 'gilsig': False, 'early': False, 'daughter': False, 'belated': False, 'knight': False, 'king': False, 'arthur': False, 'round': False, 'table': False, 'dream': False, 'follow': False, 'father': False, 'footsteps': False, 'she': False, 'chance': False, 'evil': False, 'warlord': False, 'ruber': False, 'gary': False, 'oldman': False, 'ex': False, 'gone': False, 'steals': False, 'magical': False, 'sword': False, 'excalibur': False, 'accidentally': False, 'loses': False, 'dangerous': False, 'booby': False, 'trapped': False, 'forest': False, 'help': False, 'hunky': False, 'blind': False, 'timberland': False, 'dweller': False, 'garrett': False, 'carey': False, 'elwes': False, 'headed': False, 'dragon': False, 'eric': False, 'idle': False, 'rickles': False, 'arguing': False, 'itself': False, 'able': False, 'medieval': False, 'sexist': False, 'prove': False, 'fighter': False, 'side': False, 'pure': False, 'showmanship': False, 'essential': False, 'element': False, 'expected': False, 'climb': False, 'high': False, 'ranks': False, 'differentiates': False, 'something': False, 'saturday': False, 'morning': False, 'subpar': False, 'instantly': False, 'forgettable': False, 'songs': False, 'integrated': False, 'computerized': False, 'footage': False, 'compare': False, 'run': False, 'angry': False, 'ogre': False, 'herc': False, 'battle': False, 'hydra': False, 'rest': False, 'case': False, 'stink': False, 'none': False, 'remotely': False, 'interesting': False, 'race': False, 'bland': False, 'end': False, 'tie': False, 'win': False, 'comedy': False, 'shtick': False, 'awfully': False, 'cloying': False, 'least': False, 'signs': False, 'pulse': False, 'fans': False, \"-'\": False, '90s': False, 'tgif': False, 'will': False, 'thrilled': False, 'jaleel': False, 'urkel': False, 'white': False, 'bronson': False, 'balki': False, 'pinchot': False, 'sharing': False, 'nicely': False, 'realized': False, 'though': False, 'm': False, 'loss': False, 'recall': False, 'specific': False, 'providing': False, 'voice': False, 'talent': False, 'enthusiastic': False, 'paired': False, 'singers': False, 'sound': False, 'musical': False, 'moments': False, 'jane': False, 'seymour': False, 'celine': False, 'dion': False, 'must': False, 'strain': False, 'through': False, 'aside': False, 'children': False, 'probably': False, 'adults': False, 'grievous': False, 'error': False, 'lack': False, 'personality': False, 'learn': False, 'goes': False, 'synopsis': False, 'mentally': False, 'unstable': False, 'undergoing': False, 'psychotherapy': False, 'saves': False, 'boy': False, 'potentially': False, 'fatal': False, 'falls': False, 'love': False, 'mother': False, 'fledgling': False, 'restauranteur': False, 'unsuccessfully': False, 'attempting': False, 'gain': False, 'woman': False, 'favor': False, 'takes': False, 'pictures': False, 'kills': False, 'comments': False, 'stalked': False, 'yet': False, 'seemingly': False, 'endless': False, 'string': False, 'spurned': False, 'psychos': False, 'getting': False, 'revenge': False, 'type': False, 'stable': False, 'category': False, '1990s': False, 'industry': False, 'theatrical': False, 'direct': False, 'proliferation': False, 'may': False, 'due': False, 'typically': False, 'inexpensive': False, 'produce': False, 'special': False, 'effects': False, 'stars': False, 'serve': False, 'vehicles': False, 'nudity': False, 'allowing': False, 'frequent': False, 'night': False, 'cable': False, 'wavers': False, 'slightly': False, 'norm': False, 'respect': False, 'psycho': False, 'never': False, 'affair': False, ';': False, 'contrary': False, 'rejected': False, 'rather': False, 'lover': False, 'wife': False, 'husband': False, 'entry': False, 'doomed': False, 'collect': False, 'dust': False, 'viewed': False, 'midnight': False, 'provide': False, 'suspense': False, 'sets': False, 'interspersed': False, 'opening': False, 'credits': False, 'instance': False, 'serious': False, 'sounding': False, 'narrator': False, 'spouts': False, 'statistics': False, 'stalkers': False, 'ponders': False, 'cause': False, 'stalk': False, 'implicitly': False, 'implied': False, 'men': False, 'shown': False, 'snapshot': False, 'actor': False, 'jay': False, 'underwood': False, 'states': False, 'daryl': False, 'gleason': False, 'stalker': False, 'brooke': False, 'daniels': False, 'meant': False, 'called': False, 'guesswork': False, 'required': False, 'proceeds': False, 'begins': False, 'obvious': False, 'sequence': False, 'contrived': False, 'quite': False, 'brings': False, 'victim': False, 'together': False, 'obsesses': False, 'follows': False, 'tries': False, 'woo': False, 'plans': False, 'become': False, 'desperate': False, 'elaborate': False, 'include': False, 'cliche': False, 'murdered': False, 'pet': False, 'require': False, 'found': False, 'exception': False, 'cat': False, 'shower': False, 'events': False, 'lead': False, 'inevitable': False, 'showdown': False, 'survives': False, 'invariably': False, 'conclusion': False, 'turkey': False, 'uniformly': False, 'adequate': False, 'anything': False, 'home': False, 'either': False, 'turns': False, 'toward': False, 'melodrama': False, 'overdoes': False, 'words': False, 'manages': False, 'creepy': False, 'pass': False, 'demands': False, 'maryam': False, 'abo': False, 'close': False, 'played': False, 'bond': False, 'chick': False, 'living': False, 'daylights': False, 'equally': False, 'title': False, 'ditzy': False, 'strong': False, 'independent': False, 'business': False, 'owner': False, 'needs': False, 'proceed': False, 'example': False, 'suspicions': False, 'ensure': False, 'use': False, 'excuse': False, 'decides': False, 'return': False, 'toolbox': False, 'left': False, 'place': False, 'house': False, 'leave': False, 'door': False, 'answers': False, 'opens': False, 'wanders': False, 'returns': False, 'enters': False, 'our': False, 'heroine': False, 'danger': False, 'somehow': False, 'parked': False, 'front': False, 'right': False, 'oblivious': False, 'presence': False, 'inside': False, 'whole': False, 'episode': False, 'places': False, 'incredible': False, 'suspension': False, 'disbelief': False, 'questions': False, 'validity': False, 'intelligence': False, 'receives': False, 'highly': False, 'derivative': False, 'somewhat': False, 'boring': False, 'cannot': False, 'watched': False, 'rated': False, 'mostly': False, 'several': False, 'murder': False, 'brief': False, 'strip': False, 'bar': False, 'offensive': False, 'many': False, 'thrillers': False, 'mood': False, 'stake': False, 'else': False, 'capsule': False, '2176': False, 'planet': False, 'mars': False, 'taking': False, 'custody': False, 'accused': False, 'murderer': False, 'face': False, 'menace': False, 'lot': False, 'fighting': False, 'john': False, 'carpenter': False, 'reprises': False, 'ideas': False, 'previous': False, 'assault': False, 'precinct': False, '13': False, 'homage': False, 'himself': False, '0': False, '+': False, 'believes': False, 'fight': False, 'horrible': False, 'writer': False, 'supposedly': False, 'expert': False, 'mistake': False, 'ghosts': False, 'drawn': False, 'humans': False, 'surprisingly': False, 'low': False, 'powered': False, 'alien': False, 'addition': False, 'anybody': False, 'made': False, 'grounds': False, 'sue': False, 'chock': False, 'full': False, 'pieces': False, 'prince': False, 'darkness': False, 'surprising': False, 'managed': False, 'fit': False, 'admittedly': False, 'novel': False, 'science': False, 'fiction': False, 'experience': False, 'terraformed': False, 'walk': False, 'surface': False, 'without': False, 'breathing': False, 'gear': False, 'budget': False, 'mentioned': False, 'gravity': False, 'increased': False, 'earth': False, 'easier': False, 'society': False, 'changed': False, 'advanced': False, 'culture': False, 'women': False, 'positions': False, 'control': False, 'view': False, 'stagnated': False, 'female': False, 'beyond': False, 'minor': False, 'technological': False, 'advances': False, 'less': False, '175': False, 'expect': False, 'change': False, 'ten': False, 'basic': False, 'common': False, 'except': False, 'yes': False, 'replaced': False, 'tacky': False, 'rundown': False, 'martian': False, 'mining': False, 'colony': False, 'having': False, 'criminal': False, 'napolean': False, 'wilson': False, 'desolation': False, 'williams': False, 'facing': False, 'hoodlums': False, 'automatic': False, 'weapons': False, 'nature': False, 'behave': False, 'manner': False, 'essentially': False, 'human': False, 'savages': False, 'lapse': False, 'imagination': False, 'told': False, 'flashback': False, 'entirely': False, 'filmed': False, 'almost': False, 'tones': False, 'red': False, 'yellow': False, 'black': False, 'powerful': False, 'scene': False, 'train': False, 'rushing': False, 'heavy': False, 'sadly': False, 'buildup': False, 'terror': False, 'creates': False, 'looks': False, 'fugitive': False, 'wannabes': False, 'rock': False, 'band': False, 'kiss': False, 'building': False, 'bunch': False, 'sudden': False, 'jump': False, 'sucker': False, 'thinking': False, 'scary': False, 'happening': False, 'standard': False, 'haunted': False, 'shock': False, 'great': False, 'newer': False, 'unimpressive': False, 'digital': False, 'decapitations': False, 'fights': False, 'short': False, 'stretch': False, 'release': False, 'mission': False, 'panned': False, 'reviewers': False, 'better': False, 'rate': False, 'scale': False, 'following': False, 'showed': False, 'liked': False, 'moderately': False, 'classic': False, 'comment': False, 'twice': False, 'ask': False, 'yourself': False, '8mm': False, 'eight': False, 'millimeter': False, 'wholesome': False, 'surveillance': False, 'sight': False, 'values': False, 'becoming': False, 'enmeshed': False, 'seedy': False, 'sleazy': False, 'underworld': False, 'hardcore': False, 'pornography': False, 'bubbling': False, 'beneath': False, 'town': False, 'americana': False, 'sordid': False, 'sick': False, 'depraved': False, 'necessarily': False, 'stop': False, 'order': False, 'satisfy': False, 'twisted': False, 'desires': False, 'position': False, 'influence': False, 'kinds': False, 'demented': False, 'talking': False, 'snuff': False, 'supposed': False, 'documentaries': False, 'victims': False, 'brutalized': False, 'killed': False, 'camera': False, 'joel': False, 'schumacher': False, 'credit': False, 'batman': False, 'robin': False, 'kill': False, 'forever': False, 'client': False, 'thirds': False, 'unwind': False, 'fairly': False, 'conventional': False, 'persons': False, 'drama': False, 'albeit': False, 'particularly': False, 'unsavory': False, 'core': False, 'threatening': False, 'along': False, 'explodes': False, 'violence': False, 'think': False, 'finally': False, 'tags': False, 'ridiculous': False, 'self': False, 'righteous': False, 'finale': False, 'drags': False, 'unpleasant': False, 'trust': False, 'waste': False, 'hours': False, 'nicolas': False, 'snake': False, 'eyes': False, 'cage': False, 'private': False, 'investigator': False, 'tom': False, 'welles': False, 'hired': False, 'wealthy': False, 'philadelphia': False, 'widow': False, 'determine': False, 'whether': False, 'reel': False, 'safe': False, 'documents': False, 'girl': False, 'assignment': False, 'factly': False, 'puzzle': False, 'neatly': False, 'specialized': False, 'skills': False, 'training': False, 'easy': False, 'cops': False, 'toilet': False, 'tanks': False, 'clues': False, 'deeper': False, 'digs': False, 'investigation': False, 'obsessed': False, 'george': False, 'c': False, 'scott': False, 'paul': False, 'schrader': False, 'occasionally': False, 'flickering': False, 'whirs': False, 'sprockets': False, 'winding': False, 'projector': False, 'reminding': False, 'task': False, 'hints': False, 'toll': False, 'lovely': False, 'catherine': False, 'keener': False, 'frustrated': False, 'cleveland': False, 'ugly': False, 'split': False, 'level': False, 'harrisburg': False, 'pa': False, 'condemn': False, 'condone': False, 'subject': False, 'exploits': False, 'irony': False, 'seven': False, 'scribe': False, 'andrew': False, 'kevin': False, 'walker': False, 'vision': False, 'lane': False, 'limited': False, 'hollywood': False, 'product': False, 'snippets': False, 'covering': False, 'later': False, 'joaquin': False, 'phoenix': False, 'far': False, 'adult': False, 'bookstore': False, 'flunky': False, 'max': False, 'california': False, 'cover': False, 'horrid': False, 'screened': False, 'familiar': False, 'revelation': False, 'sexual': False, 'deviants': False, 'indeed': False, 'monsters': False, 'everyday': False, 'neither': False, 'super': False, 'nor': False, 'shocking': False, 'banality': False, 'exactly': False, 'felt': False, 'weren': False, 'nine': False, 'laughs': False, 'months': False, 'terrible': False, 'mr': False, 'hugh': False, 'grant': False, 'huge': False, 'dork': False, 'oral': False, 'sex': False, 'prostitution': False, 'referring': False, 'bugs': False, 'annoying': False, 'adam': False, 'sandler': False, 'jim': False, 'carrey': False, 'eye': False, 'flutters': False, 'nervous': False, 'smiles': False, 'slapstick': False, 'fistfight': False, 'delivery': False, 'room': False, 'culminating': False, 'joan': False, 'cusack': False, 'lap': False, 'paid': False, '$': False, '60': False, 'included': False, 'obscene': False, 'double': False, 'entendres': False, 'obstetrician': False, 'pregnant': False, 'pussy': False, 'size': False, 'hairs': False, 'coat': False, 'nonetheless': False, 'exchange': False, 'cookie': False, 'cutter': False, 'originality': False, 'humor': False, 'successful': False, 'child': False, 'psychiatrist': False, 'psychologist': False, 'scriptwriters': False, 'could': False, 'inject': False, 'unfunny': False, 'kid': False, 'dad': False, 'asshole': False, 'eyelashes': False, 'offers': False, 'smile': False, 'responds': False, 'english': False, 'accent': False, 'attitude': False, 'possibly': False, '_huge_': False, 'beside': False, 'includes': False, 'needlessly': False, 'stupid': False, 'jokes': False, 'olds': False, 'everyone': False, 'shakes': False, 'anyway': False, 'finds': False, 'usual': False, 'reaction': False, 'fluttered': False, 'paves': False, 'possible': False, 'pregnancy': False, 'birth': False, 'gag': False, 'book': False, 'friend': False, 'arnold': False, 'provides': False, 'cacophonous': False, 'funny': False, 'beats': False, 'costumed': False, 'arnie': False, 'dinosaur': False, 'draw': False, 'parallels': False, 'toy': False, 'store': False, 'jeff': False, 'goldblum': False, 'hid': False, 'dreadful': False, 'hideaway': False, 'artist': False, 'fear': False, 'simultaneous': False, 'longing': False, 'commitment': False, 'doctor': False, 'recently': False, 'switch': False, 'veterinary': False, 'medicine': False, 'obstetrics': False, 'joke': False, 'old': False, 'foreign': False, 'guy': False, 'mispronounces': False, 'stereotype': False, 'say': False, 'yakov': False, 'smirnov': False, 'favorite': False, 'vodka': False, 'hence': False, 'take': False, 'volvo': False, 'nasty': False, 'unamusing': False, 'heads': False, 'simultaneously': False, 'groan': False, 'failure': False, 'loud': False, 'failed': False, 'uninspired': False, 'lunacy': False, 'sunset': False, 'boulevard': False, 'arrest': False, 'please': False, 'caught': False, 'pants': False, 'bring': False, 'theaters': False, 'faces': False, '90': False, 'forced': False, 'unauthentic': False, 'anyone': False, 'q': False, '80': False, 'sorry': False, 'money': False, 'unfulfilled': False, 'desire': False, 'spend': False, 'bucks': False, 'call': False, 'road': False, 'trip': False, 'walking': False, 'wounded': False, 'stellan': False, 'skarsg': False, 'rd': False, 'convincingly': False, 'zombified': False, 'drunken': False, 'loser': False, 'difficult': False, 'smelly': False, 'boozed': False, 'reliable': False, 'swedish': False, 'adds': False, 'depth': False, 'significance': False, 'plodding': False, 'aberdeen': False, 'sentimental': False, 'painfully': False, 'mundane': False, 'european': False, 'playwright': False, 'august': False, 'strindberg': False, 'built': False, 'career': False, 'families': False, 'relationships': False, 'paralyzed': False, 'secrets': False, 'unable': False, 'express': False, 'longings': False, 'accurate': False, 'reflection': False, 'strives': False, 'focusing': False, 'pairing': False, 'alcoholic': False, 'tomas': False, 'alienated': False, 'openly': False, 'hostile': False, 'yuppie': False, 'kaisa': False, 'lena': False, 'headey': False, 'gossip': False, 'haven': False, 'spoken': False, 'wouldn': False, 'norway': False, 'scotland': False, 'automobile': False, 'charlotte': False, 'rampling': False, 'sand': False, 'rotting': False, 'hospital': False, 'bed': False, 'cancer': False, 'soap': False, 'opera': False, 'twist': False, 'days': False, 'live': False, 'blitzed': False, 'step': False, 'foot': False, 'plane': False, 'hits': False, 'open': False, 'loathing': False, 'each': False, 'periodic': False, 'stops': False, 'puke': False, 'dashboard': False, 'whenever': False, 'muttering': False, 'rotten': False, 'turned': False, 'sloshed': False, 'viewpoint': False, 'recognizes': False, 'apple': False, 'hasn': False, 'fallen': False, 'tree': False, 'nosebleeds': False, 'snorting': False, 'coke': False, 'sabotages': False, 'personal': False, 'indifference': False, 'restrain': False, 'vindictive': False, 'temper': False, 'ain': False, 'pair': False, 'true': False, 'notes': False, 'unspoken': False, 'familial': False, 'empathy': False, 'note': False, 'repetitively': False, 'bitchy': False, 'screenwriters': False, 'kristin': False, 'amundsen': False, 'hans': False, 'petter': False, 'moland': False, 'fabricate': False, 'series': False, 'contrivances': False, 'propel': False, 'forward': False, 'roving': False, 'hooligans': False, 'drunks': False, 'nosy': False, 'flat': False, 'tires': False, 'figure': False, 'schematic': False, 'convenient': False, 'narrative': False, 'reach': False, 'unveil': False, 'dark': False, 'past': False, 'simplistic': False, 'devices': False, 'trivialize': False, 'conflict': False, 'mainstays': False, 'wannabe': False, 'exists': False, 'purely': False, 'sake': False, 'weak': False, 'unimaginative': False, 'casting': False, 'thwarts': False, 'pivotal': False, 'role': False, 'were': False, 'stronger': False, 'actress': False, 'perhaps': False, 'coast': False, 'performances': False, 'moody': False, 'haunting': False, 'cinematography': False, 'rendering': False, 'pastoral': False, 'ghost': False, 'reference': False, 'certain': False, 'superior': False, 'indie': False, 'intentional': False, 'busy': False, 'using': False, 'furrowed': False, 'brow': False, 'convey': False, 'twitch': False, 'insouciance': False, 'paying': False, 'attention': False, 'maybe': False, 'doing': False, 'reveal': False, 'worthwhile': False, 'earlier': False, 'released': False, '2001': False, 'jonathan': False, 'nossiter': False, 'captivating': False, 'wonders': False, 'disturbed': False, 'parental': False, 'figures': False, 'bound': False, 'ceremonial': False, 'wedlock': False, 'differences': False, 'presented': False, 'significant': False, 'luminous': False, 'diva': False, 'preening': False, 'static': False, 'solid': False, 'performance': False, 'pathetic': False, 'drunk': False, 'emote': False, 'besides': False, 'catatonic': False, 'sorrow': False, 'genuine': False, 'ferocity': False, 'sexually': False, 'charged': False, 'frisson': False, 'during': False, 'understated': False, 'confrontations': False, 'suggest': False, 'gray': False, 'zone': False, 'complications': False, 'accompany': False, 'torn': False, 'romance': False, 'stifled': False, 'curiosity': False, 'thoroughly': False, 'explores': False, 'neurotic': False, 'territory': False, 'delving': False, 'americanization': False, 'greece': False, 'mysticism': False, 'illusion': False, 'deflect': False, 'pain': False, 'overloaded': False, 'willing': False, 'come': False, 'traditional': False, 'ambitious': False, 'sleepwalk': False, 'rhythms': False, 'timing': False, 'driven': False, 'stories': False, 'complexities': False, 'depressing': False, 'answer': False, 'lawrence': False, 'kasdan': False, 'trite': False, 'useful': False, 'grand': False, 'canyon': False, 'steve': False, 'martin': False, 'mogul': False, 'pronounces': False, 'riddles': False, 'answered': False, 'advice': False, 'heart': False, 'french': False, 'sees': False, 'parents': False, 'tim': False, 'roth': False, 'oops': False, 'vows': False, 'taught': False, 'musketeer': False, 'dude': False, 'used': False, 'fourteen': False, 'arrgh': False, 'swish': False, 'zzzzzzz': False, 'original': False, 'lacks': False, 'energy': False, 'next': False, 'hmmmm': False, 'justin': False, 'chambers': False, 'basically': False, 'uncharismatic': False, 'version': False, 'chris': False, 'o': False, 'donnell': False, 'range': False, 'mena': False, 'suvari': False, 'thora': False, 'birch': False, 'dungeons': False, 'dragons': False, 'miscast': False, 'deliveries': False, 'piss': False, 'poor': False, 'ms': False, 'fault': False, 'definitely': False, 'higher': False, 'semi': False, 'saving': False, 'grace': False, 'wise': False, 'irrepressible': False, 'once': False, 'thousand': False, 'god': False, 'beg': False, 'agent': False, 'marketplace': False, 'modern': False, 'day': False, 'roles': False, 'romantic': False, 'gunk': False, 'alright': False, 'yeah': False, 'yikes': False, 'notches': False, 'fellas': False, 'blares': False, 'ear': False, 'accentuate': False, 'annoy': False, 'important': False, 'behind': False, 'recognize': False, 'epic': False, 'fluffy': False, 'rehashed': False, 'cake': False, 'created': False, 'shrewd': False, 'advantage': False, 'kung': False, 'fu': False, 'phenomenon': False, 'test': False, 'dudes': False, 'keep': False, 'reading': False, 'editing': False, 'shoddy': False, 'banal': False, 'stilted': False, 'plentiful': False, 'top': False, 'horse': False, 'carriage': False, 'stand': False, 'opponent': False, 'scampering': False, 'cut': False, 'mouseketeer': False, 'rope': False, 'tower': False, 'jumping': False, 'chords': False, 'hanging': False, 'says': False, '14': False, 'shirt': False, 'strayed': False, 'championing': False, 'fun': False, 'stretches': False, 'atrocious': False, 'lake': False, 'reminded': False, 'school': False, 'cringe': False, 'musketeers': False, 'fat': False, 'raison': False, 'etre': False, 'numbers': False, 'hoping': False, 'packed': False, 'stuntwork': False, 'promoted': False, 'trailer': False, 'major': False, 'swashbuckling': False, 'beginning': False, 'finishes': False, 'juggling': False, 'ladders': False, 'ladder': False, 'definite': False, 'keeper': False, 'regurgitated': False, 'crap': False, 'tell': False, 'deneuve': False, 'placed': False, 'hullo': False, 'barely': False, 'ugh': False, 'small': False, 'annoyed': False, 'trash': False, 'gang': False, 'vow': False, 'stay': False, 'thank': False, 'outlaws': False, '5': False, 'crouching': False, 'tiger': False, 'hidden': False, 'matrix': False, 'replacement': False, 'killers': False, '6': False, 'romeo': False, 'die': False, 'shanghai': False, 'noon': False, 'remembered': False, 'dr': False, 'hannibal': False, 'lecter': False, 'michael': False, 'mann': False, 'forensics': False, 'thriller': False, 'manhunter': False, 'scottish': False, 'brian': False, 'cox': False, 'works': False, 'usually': False, 'schlock': False, 'halfway': False, 'goodnight': False, 'meaty': False, 'substantial': False, 'brilliant': False, 'check': False, 'dogged': False, 'inspector': False, 'opposite': False, 'frances': False, 'mcdormand': False, 'ken': False, 'loach': False, 'agenda': False, 'harrigan': False, 'disturbing': False, 'l': False, 'e': False, '47': False, 'picked': False, 'sundance': False, 'distributors': False, 'scared': False, 'budge': False, 'dares': False, 'speak': False, 'expresses': False, 'seeking': False, 'adolescents': False, 'pad': False, 'bothered': False, 'members': False, 'presentation': False, 'oddly': False, 'empathetic': False, 'light': False, 'tempered': False, 'robust': False, 'listens': False, 'opposed': False, 'friends': False, 'wire': False, 'act': False, 'confused': False, 'lives': False, 'pay': False, 'courtship': False, 'charming': False, 'temptations': False, 'grown': False, 'stands': False, 'island': False, 'expressway': False, 'slices': False, 'malls': False, 'class': False, 'homes': False, 'suburbia': False, 'filmmaker': False, 'cuesta': False, 'uses': False, 'transparent': False, 'metaphor': False, '15': False, 'protagonist': False, 'howie': False, 'franklin': False, 'dano': False, 'reveals': False, 'morbid': False, 'preoccupation': False, 'death': False, 'citing': False, 'deaths': False, 'alan': False, 'j': False, 'pakula': False, 'songwriter': False, 'harry': False, 'chapin': False, 'exit': False, '52': False, 'fascinated': False, 'feelings': False, 'projected': False, 'bright': False, 'move': False, 'force': False, 'complex': False, 'molesters': False, 'beast': False, 'ashamed': False, 'worked': False, 'ill': False, 'advised': False, 'foray': False, 'unnecessary': False, 'padding': False, 'miserable': False, 'bruce': False, 'altman': False, 'seat': False, 'collar': False, 'crime': False, 'degenerate': False, 'youngsters': False, 'kicks': False, 'robbing': False, 'houses': False, 'homoerotic': False, 'shenanigans': False, 'ass': False, 'terrio': False, 'billy': False, 'kay': False, 'handsome': False, 'artful': False, 'dodger': False, 'add': False, 'themes': False, 'suburban': False, 'ennui': False, 'needed': False, 'awkward': False, 'subplots': False, 'concurrently': False, 'relationship': False, 'evenly': False, 'paced': False, 'exceptionally': False, 'acted': False, 'sporting': False, 'baseball': False, 'cap': False, 'faded': False, 'marine': False, 'tattoo': False, 'bluff': False, 'bluster': False, 'quiet': False, 'glance': False, 'withdrawn': False, 'whose': False, 'dramatic': False, 'choices': False, 'broad': False, 'calling': False, 'haley': False, 'restraint': False, 'admirable': False, 'screenplay': False, 'material': False, 'reads': False, 'walt': False, 'whitman': False, 'poem': False, 'moment': False, 'precious': False, 'lingers': False, 'ecstatic': False, 'hearing': False, 'glenn': False, 'gould': False, 'performing': False, 'bach': False, 'goldberg': False, 'variations': False, 'involving': False, 'walter': False, 'masterson': False, 'jealous': False, 'newbie': False, 'thread': False, 'predictably': False, 'leads': False, 'observational': False, 'portrait': False, 'alienation': False, 'royally': False, 'screwed': False, 'terry': False, 'zwigoff': False, 'superb': False, 'confidence': False, 'ambivalent': False, 'typical': False, 'cinema': False, 'wrap': False, 'bullet': False, 'sparing': False, 'writers': False, 'philosophical': False, 'regard': False, 'countless': False, 'share': False, 'blockbuster': False, 'solved': False, 'obstacle': False, 'removed': False, 'often': False, 'extend': False, 'question': False, 'striving': False, 'realism': False, 'destroy': False, 'janeane': False, 'garofalo': False, 'couple': False, 'truth': False, 'cats': False, 'dogs': False, 'excruciating': False, 'matchmaker': False, 'books': False, 'plods': False, 'predestined': False, 'surprises': False, 'jumps': False, 'popular': False, 'political': False, 'satire': False, 'bandwagon': False, 'campaign': False, 'aide': False, 'massacusetts': False, 'senator': False, 'sanders': False, 'reelection': False, 'denis': False, 'leary': False, 'stereotypical': False, 'strategist': False, 'ethics': False, 'scandal': False, 'plagued': False, 'play': False, 'irish': False, 'roots': False, 'boston': False, 'roman': False, 'catholic': False, 'democrat': False, 'contingent': False, 'kennedy': False, 'family': False, 'orders': False, 'ireland': False, 'relatives': False, 'exploit': False, 'soon': False, 'learns': False, 'said': False, 'done': False, 'mantra': False, 'tiny': False, 'misses': False, 'bus': False, 'hotel': False, 'ends': False, 'smallest': False, 'trashiest': False, 'dog': False, 'luggage': False, 'roger': False, 'ebert': False, 'calls': False, 'meet': False, 'happens': False, 'unconventional': False, 'cinematic': False, 'walks': False, 'bathroom': False, 'nude': False, 'sean': False, 'david': False, 'hara': False, 'bathtub': False, 'points': False, 'guessing': False, 'water': False, 'hates': False, 'instant': False, 'saw': False, 'irishman': False, 'hate': False, 'awhile': False, 'succumb': False, 'charms': False, 'happily': False, 'superficial': False, 'detail': False, 'throw': False, 'turmoil': False, 'reconcile': False, 'tune': False, 'annual': False, 'matchmaking': False, 'festival': False, 'lonely': False, 'county': False, 'future': False, 'bliss': False, 'milo': False, 'shea': False, 'snyder': False, 'pops': False, 'onscreen': False, 'spew': False, 'souls': False, 'assured': False, 'match': False, 'utter': False, 'predictability': False, 'message': False, 'respectable': False, 'person': False, 'comedic': False, 'distinction': False, 'sell': False, 'script': False, 'excited': False, 'stays': False, 'stateside': False, 'yelling': False, 'phone': False, 'undoes': False, 'microphone': False, 'speech': False, 'known': False, 'flying': False, 'hong': False, 'kong': False, 'style': False, 'filmmaking': False, 'classics': False, 'nod': False, 'asia': False, 'france': False, 'lukewarm': False, 'dumas': False, 'asian': False, 'stunt': False, 'coordinator': False, 'xing': False, 'xiong': False, 'prior': False, 'attempts': False, 'choreography': False, 'laughable': False, 'van': False, 'damme': False, 'vehicle': False, 'team': False, 'dennis': False, 'rodman': False, 'simon': False, 'sez': False, 'thrown': False, 'air': False, 'result': False, 'tepid': False, 'adventure': False, 'rip': False, 'stinks': False, 'indiana': False, 'jones': False, 'simple': False, 'grandmother': False, 'adapted': False, 'artagnan': False, 'vengeful': False, 'son': False, 'slain': False, 'travels': False, 'paris': False, 'join': False, 'royal': False, 'meets': False, 'cunning': False, 'cardinal': False, 'richelieu': False, 'stephen': False, 'rea': False, 'overthrow': False, 'associate': False, 'febre': False, 'killer': False, 'disbanded': False, 'rounds': False, 'aramis': False, 'nick': False, 'moran': False, 'athos': False, 'jan': False, 'gregor': False, 'kremp': False, 'porthos': False, 'steven': False, 'spiers': False, 'wrongfully': False, 'imprisoned': False, 'leader': False, 'treville': False, 'prison': False, 'frisky': False, 'interest': False, 'chambermaid': False, 'francesca': False, 'footsy': False, 'coo': False, 'hunts': False, 'queen': False, 'captured': False, 'menancing': False, 'forcing': False, 'regroup': False, 'leading': False, 'charge': False, 'peter': False, 'hyams': False, 'wanted': False, 'blend': False, 'eastern': False, 'western': False, 'styles': False, 'disaster': False, 'reality': False, 'ones': False, 'jet': False, 'li': False, 'risk': False, 'ironically': False, 'swordplay': False, 'spread': False, 'carry': False, 'bulk': False, '30': False, 'minute': False, 'picture': False, 'weighs': False, 'monotonous': False, 'gene': False, 'quintano': False, 'prosaic': False, 'wedding': False, 'planner': False, 'mousy': False, 'artangnan': False, 'hyam': False, 'candles': False, 'torches': False, 'grime': False, 'filth': False, '17th': False, 'noted': False, 'standout': False, 'mortal': False, 'kombat': False, 'annihilation': False, 'reviewed': False, 'multiple': False, 'levels': False, 'rampant': False, 'usage': False, 'randian': False, 'subtext': False, 'pervades': False, 'occasionaly': False, 'ironic': False, 'depreciating': False, 'remark': False, 'tosses': False, 'clearly': False, 'marxist': False, 'imagery': False, 'kidding': False, 'seriousness': False, 'fair': False, '*': False, 'necessary': False, 'viewpoints': False, 'watcher': False, 'unfamiliar': False, 'marginally': False, 'fan': False, 'games': False, '1995': False, 'concerned': False, 'martial': False, 'arts': False, 'tournament': False, 'decide': False, 'fate': False, 'billion': False, 'inhabitants': False, 'mortals': False, 'theory': False, 'prevented': False, 'emperor': False, 'shao': False, 'khan': False, 'arriving': False, 'ready': False, 'assumed': False, 'stance': False, 'extraordinarily': False, 'myself': False, 'game': False, 'enjoyed': False, 'directors': False, 'knew': False, 'limitations': False, 'try': False, 'overachieve': False, 'accompanying': False, 'intersperesed': False, 'distracting': False, 'non': False, 'intrusive': False, 'bits': False, 'fluff': False, 'passing': False, 'smashing': False, 'success': False, 'box': False, 'office': False, 'picks': False, 'precisely': False, 'introductory': False, 'exposition': False, 'anyways': False, 'hell': False, 'silly': False, 'rule': False, 'winning': False, 'thereafter': False, 'approximately': False, '85': False, 'alternates': False, 'general': False, 'impression': False, 'producers': False, 'thought': False, 'formula': False, 'volumes': False, 'truly': False, 'sandra': False, 'hess': False, 'sonya': False, 'blade': False, 'execrable': False, 'convince': False, 'loved': False, 'johnny': False, 'greased': False, 'worst': False, 'mis': False, 'james': False, 'remar': False, 'raiden': False, 'thunder': False, 'christopher': False, 'lambert': False, 'japanese': False, 'revered': False, 'chinese': False, 'mystics': False, 'against': False, 'lister': False, 'jr': False, 'president': False, 'u': False, 'fifth': False, 'utility': False, 'totally': False, 'luxury': False, 'amused': False, 'awareness': False, 'introduced': False, 'meaningless': False, 'sidetracks': False, 'including': False, 'muddled': False, 'liu': False, 'kang': False, 'shou': False, 'seeks': False, 'nightwolf': False, 'litefoot': False, 'mystical': False, 'hallucination': False, 'jade': False, 'irina': False, 'pantaeva': False, 'reasons': False, 'unless': False, 'critiques': False, 'apply': False, 'worse': False, 'bridgette': False, 'convincing': False, 'looked': False, 'mimicing': False, 'movements': False, 'choreographer': False, 'knows': False, 'puts': False, 'believable': False, 'jax': False, 'earthquake': False, 'animality': False, 'bonus': False, 'similar': False, 'moves': False, 'mistakenly': False, 'hang': False, 'lamest': False, 'involved': False, 'mud': False, 'wrestling': False, 'lame': False, 'politically': False, 'incorrect': False, 'noticed': False, 'remarked': False, 'upon': False, 'emporer': False, 'perform': False, 'animalities': False, 'motaro': False, 'sheeva': False, 'lifelike': False, 'goro': False, 'enjoy': False, 'femme': False, 'la': False, 'nikita': False, 'backdraft': False, 'sliver': False, 'cindy': False, 'crawford': False, 'anne': False, 'parillaud': False, 'conspire': False, 'shattered': False, 'image': False, 'hooey': False, 'stallone': False, 'stone': False, 'specialist': False, 'poses': False, 'recurring': False, 'assassin': False, 'honeymooning': False, 'jamaica': False, 'believe': False, 'runs': False, 'painful': False, 'pedestrian': False, 'siouxsie': False, 'sioux': False, 'wig': False, 'emotionless': False, 'leather': False, 'clothing': False, 'seattle': False, 'moping': False, 'karen': False, 'endlessly': False, 'complicated': False, 'plots': False, 'helps': False, 'crisp': False, 'modicum': False, 'shakespearean': False, 'begin': False, 'saddled': False, 'leaden': False, 'zero': False, 'breaking': False, 'cardboard': False, 'confines': False, 'insist': False, 'couldn': False, 'huh': False, 'wonderful': False, 'interchange': False, 'charm': False, 'faster': False, 'learned': False, 'cereal': False, 'crybaby': False, 'imagines': False, 'stranger': False, 'sends': False, 'flowers': False, 'chromium': False, 'tough': False, 'nails': False, 'crack': False, 'killing': False, 'machine': False, 'shoots': False, 'mirrors': False, 'stock': False, 'interested': False, 'nest': False, 'egg': False, 'pave': False, 'paradise': False, 'put': False, 'parking': False, 'graham': False, 'greene': False, 'barbet': False, 'schroeder': False, 'reversal': False, 'fortune': False, 'co': False, 'produced': False, 'agonizingly': False, 'b': False, 'york': False, 'vampires': False, 'latest': False, 'opus': False, 'bent': False, 'outing': False, 'aptly': False, 'titled': False, 'suppose': False, 'went': False, 'prefixed': False, 'possessive': False, 'unashamed': False, 'punctuated': False, 'above': False, 'storyline': False, 'borders': False, 'idiotic': False, 'chaotic': False, 'dormant': False, 'martians': False, 'swirling': False, 'gases': False, 'awakened': False, 'meddling': False, 'possess': False, 'hapless': False, 'colonists': False, 'testy': False, 'marilyn': False, 'manson': False, 'lookalikes': False, 'pooh': False, 'bah': False, 'counsel': False, 'official': False, 'melanie': False, 'ballard': False, 'natasha': False, 'henstridge': False, 'sub': False, 'species': False, 'returnee': False, 'officer': False, 'incarcerated': False, 'felon': False, 'second': False, 'blonde': False, 'pulled': False, 'tightly': False, 'awkwardly': False, 'ponytail': False, 'ice': False, 'cube': False, 'appropriately': False, 'named': False, 'pam': False, 'grier': False, 'briefly': False, 'whom': False, 'wonder': False, 'host': False, 'extras': False, 'therefore': False, 'bird': False, 'shots': False, 'sprawling': False, 'metropolis': False, 'reddish': False, 'state': False, 'art': False, 'trademark': False, 'finding': False, 'department': False, 'lock': False, 'laughing': False, 'barrel': False, 'fare': False, 'dingy': False, 'interiors': False, 'cluttered': False, 'exteriors': False, 'inane': False, 'lots': False, 'scarred': False, 'crazed': False, 'aliens': False, 'weaponry': False, 'warfare': False, 'warning': False, 'spontaneously': False, 'stupidly': False, 'villains': False, 'border': False, 'conflicts': False, 'shootouts': False, 'minus': False, 'hissing': False, 'plissken': False, 'miss': False, 'dubbed': False, 'minimalist': False, 'soundtracks': False, 'graduated': False, 'effective': False, 'scoring': False, 'highlighting': False, 'screeching': False, 'guitar': False, 'fortunately': False, 'drowns': False, 'er': False, 'audible': False, 'priceless': False, 'proven': False, 'infertile': False, 'breeding': False, 'ground': False, 'stillborn': False, 'val': False, 'kilmer': False, 'disappointing': False, 'weekend': False, 'overshadowed': False, 'sequels': False, 'among': False, 'pie': False, 'rush': False, 'absent': False, 'references': False, 'set': False, 'perth': False, 'amboys': False, 'closest': False, 'neighbor': False, 'slap': False, 'upside': False, '1': False, 'keeps': False, 'miraculously': False, 'pretend': False, 'means': False, 'intelligent': False, 'grade': False, 'sci': False, 'fi': False, 'singularly': False, 'luck': False, 'starting': False, 'alicia': False, 'silverstone': False, 'beautiful': False, 'creatures': False, 'green': False, 'critic': False, 'large': False, 'choosing': False, 'strikes': False, 'crush': False, 'slow': False, 'moving': False, 'horrific': False, 'adaptation': False, 'clueless': False, 'mailed': False, 'saying': False, 'theater': False, 'expecting': False, 'preview': False, 'crazymadinlove': False, 'whiny': False, 'unlikable': False, 'wasn': False, 'yelled': False, 'f': False, '$&#': False, 'laugh': False, 'agreement': False, 'walked': False, 'babysitter': False, 'inner': False, 'compulsion': False, 'understand': False, 'rent': False, 'regret': False, 'paragraph': False, 'competition': False, 'criticizing': False, 'thin': False, 'shred': False, 'slower': False, 'glacier': False, 'writing': False, 'appeal': False, 'whatsoever': False, 'pointlessly': False, 'concluded': False, 'violent': False, 'plus': False, 'equals': False, 'spends': False, 'twenty': False, 'bubble': False, 'bath': False, 'joined': False, 'four': False, 'features': False, 'settle': False, 'friday': False, 'cocktail': False, 'automatically': False, 'nights': False, 'trods': False, 'discover': False, 'silent': False, 'object': False, 'male': False, 'fantasies': False, 'thinks': False, 'recapture': False, 'youth': False, 'boyfriend': False, 'lets': False, 'wild': False, 'spying': False, 'outside': False, 'prepubescent': False, 'keyhole': False, 'aged': False, 'counterpart': False, 'asked': False, '200': False, 'pound': False, 'silk': False, 'teddy': False, 'fanatasies': False, 'realm': False, 'pg': False, 'imagine': False, 'cinemax': False, 'staple': False, 'absolutely': False, 'pointed': False, 'classify': False, 'mix': False, 'various': False, 'encounters': False, 'third': False, 'space': False, 'odyssey': False, 'apollo': False, 'contact': False, 'hope': False, 'melange': False, 'considering': False, 'disastrous': False, 'results': False, 'sucks': False, 'rescue': False, 'astronauts': False, 'sent': False, '2020': False, 'unknown': False, 'aviators': False, 'visit': False, 'underwhelming': False, 'describe': False, 'uneven': False, 'promise': False, 'buzz': False, 'neutral': False, 'cherry': False, 'colored': False, 'nerdies': False, 'techie': False}\n",
            "Naive Bays Algo accuracy:  81.0\n",
            "Most Informative Features\n",
            "                   sucks = True              neg : pos    =     10.4 : 1.0\n",
            "                 frances = True              pos : neg    =      9.1 : 1.0\n",
            "                  annual = True              pos : neg    =      8.5 : 1.0\n",
            "           unimaginative = True              neg : pos    =      8.2 : 1.0\n",
            "             silverstone = True              neg : pos    =      7.6 : 1.0\n",
            "               atrocious = True              neg : pos    =      6.9 : 1.0\n",
            "                    mena = True              neg : pos    =      6.9 : 1.0\n",
            "              schumacher = True              neg : pos    =      6.9 : 1.0\n",
            "                  suvari = True              neg : pos    =      6.9 : 1.0\n",
            "                 idiotic = True              neg : pos    =      6.9 : 1.0\n",
            "                  regard = True              pos : neg    =      6.7 : 1.0\n",
            "                 cunning = True              pos : neg    =      6.4 : 1.0\n",
            "              metropolis = True              pos : neg    =      6.4 : 1.0\n",
            "                 singers = True              pos : neg    =      6.4 : 1.0\n",
            "                 kidding = True              neg : pos    =      6.2 : 1.0\n",
            "None\n"
          ]
        }
      ]
    },
    {
      "cell_type": "code",
      "source": [],
      "metadata": {
        "id": "G0-9O20XK3sd"
      },
      "execution_count": null,
      "outputs": []
    },
    {
      "cell_type": "code",
      "source": [
        "import pickle\n",
        "\n",
        "# export model using pickle\n",
        "\n",
        "pickle_file = 'naivebayes.pickle'\n",
        "# save_classifier = open(pickle_file,'wb')\n",
        "#pickle.dump(classifier, save_classifier)\n",
        "#save_classifier.close()\n",
        "\n",
        "# import model from pickle\n",
        "#classifier_f = open(pickle_file)\n",
        "#classifier = pickle.load(classifier_f)\n",
        "#classifier_f.close()"
      ],
      "metadata": {
        "id": "q8u8Ji-D_N77"
      },
      "execution_count": null,
      "outputs": []
    },
    {
      "cell_type": "code",
      "source": [],
      "metadata": {
        "id": "OJucH4U4IFrg"
      },
      "execution_count": null,
      "outputs": []
    },
    {
      "cell_type": "markdown",
      "source": [
        "## Scikit-learn incorporation"
      ],
      "metadata": {
        "id": "l4fzteGS_ixI"
      }
    },
    {
      "cell_type": "code",
      "source": [
        "from sklearn.naive_bayes import MultinomialNB, GaussianNB, BernoulliNB\n",
        "from sklearn.linear_model import LogisticRegression, SGDClassifier\n",
        "from sklearn.svm import SVC, LinearSVC, NuSVC"
      ],
      "metadata": {
        "id": "IvKb2DxJ-9YS"
      },
      "execution_count": null,
      "outputs": []
    },
    {
      "cell_type": "code",
      "source": [
        "from nltk.classify.scikitlearn import SklearnClassifier\n",
        "\n",
        "MNB_classifier = SklearnClassifier(MultinomialNB())\n",
        "MNB_classifier.train(training_set)\n",
        "print(\"MNB_classifier accuracy percent: \", (nltk.classify.accuracy(MNB_classifier, testing_set))*100)\n",
        "\n",
        "#GNB_classifier = SklearnClassifier(GaussianNB())\n",
        "#GNB_classifier.train(training_set)\n",
        "#print(\"GNB_classifier accuracy percent: \", (nltk.classify.accuracy(GNB_classifier, testing_set))*100)\n",
        "\n",
        "BNB_classifier = SklearnClassifier(BernoulliNB())\n",
        "BNB_classifier.train(training_set)\n",
        "print(\"BNB_classifier accuracy percent: \", (nltk.classify.accuracy(BNB_classifier, testing_set))*100)\n",
        "\n",
        "\n",
        "#SVM \n",
        "\n",
        "SVC_classifier = SklearnClassifier(SVC())\n",
        "SVC_classifier.train(training_set)\n",
        "print(\"SVC_classifier accuracy percent: \", (nltk.classify.accuracy(SVC_classifier, testing_set))*100)\n",
        "\n",
        "\n",
        "LSVC_classifier = SklearnClassifier(LinearSVC())\n",
        "LSVC_classifier.train(training_set)\n",
        "print(\"LSVC_classifier accuracy percent: \", (nltk.classify.accuracy(LSVC_classifier, testing_set))*100)\n",
        "\n",
        "NuSVC_classifier = SklearnClassifier(NuSVC())\n",
        "NuSVC_classifier.train(training_set)\n",
        "print(\"NuSVC_classifier accuracy percent: \", (nltk.classify.accuracy(NuSVC_classifier, testing_set))*100)\n",
        "\n",
        "# \n",
        "LR_classifier = SklearnClassifier(LogisticRegression())\n",
        "LR_classifier.train(training_set)\n",
        "print(\"LR_classifier accuracy percent: \", (nltk.classify.accuracy(LR_classifier, testing_set))*100)\n",
        "\n",
        "SGD_classifier = SklearnClassifier(SGDClassifier())\n",
        "SGD_classifier.train(training_set)\n",
        "print(\"SGD_classifier accuracy percent: \", (nltk.classify.accuracy(SGD_classifier, testing_set))*100)\n",
        "\n"
      ],
      "metadata": {
        "colab": {
          "base_uri": "https://localhost:8080/"
        },
        "id": "MYEfl0HfAJKl",
        "outputId": "cd72d244-f3ca-4f23-81c3-0b552e01b448"
      },
      "execution_count": null,
      "outputs": [
        {
          "output_type": "stream",
          "name": "stdout",
          "text": [
            "MNB_classifier accuracy percent:  85.0\n",
            "BNB_classifier accuracy percent:  82.0\n",
            "SVC_classifier accuracy percent:  86.0\n",
            "LSVC_classifier accuracy percent:  81.0\n",
            "NuSVC_classifier accuracy percent:  84.0\n"
          ]
        },
        {
          "output_type": "stream",
          "name": "stderr",
          "text": [
            "/usr/local/lib/python3.7/dist-packages/sklearn/linear_model/_logistic.py:818: ConvergenceWarning: lbfgs failed to converge (status=1):\n",
            "STOP: TOTAL NO. of ITERATIONS REACHED LIMIT.\n",
            "\n",
            "Increase the number of iterations (max_iter) or scale the data as shown in:\n",
            "    https://scikit-learn.org/stable/modules/preprocessing.html\n",
            "Please also refer to the documentation for alternative solver options:\n",
            "    https://scikit-learn.org/stable/modules/linear_model.html#logistic-regression\n",
            "  extra_warning_msg=_LOGISTIC_SOLVER_CONVERGENCE_MSG,\n"
          ]
        },
        {
          "output_type": "stream",
          "name": "stdout",
          "text": [
            "LR_classifier accuracy percent:  82.0\n",
            "SGD_classifier accuracy percent:  80.0\n"
          ]
        }
      ]
    },
    {
      "cell_type": "code",
      "source": [
        "# Combining Algos with a Vote\n",
        "\n",
        "from nltk.classify import ClassifierI\n",
        "from statistics import mode\n",
        "\n",
        "class VoteClassifier(ClassifierI):\n",
        "    def __init__(self, *classifiers):\n",
        "        self._classifiers = classifiers\n",
        "\n",
        "    def classify(self, features):\n",
        "        votes = []\n",
        "        for c in self._classifiers:\n",
        "            v = c.classify(features)\n",
        "            votes.append(v)\n",
        "        return mode(votes)\n",
        "\n",
        "    def confidence(self, features):\n",
        "        votes = []\n",
        "        for c in self._classifiers:\n",
        "            v = c.classify(features)\n",
        "            votes.append(v)\n",
        "\n",
        "        choice_votes = votes.count(mode(votes))\n",
        "        conf = choice_votes / len(votes)\n",
        "        return conf\n",
        "\n",
        "\n",
        "voted_classifier = VoteClassifier(#classifier,\n",
        "                                  MNB_classifier, BNB_classifier, \n",
        "                                  SVC_classifier, LSVC_classifier , NuSVC_classifier,\n",
        "                                  LR_classifier, SGD_classifier)\n",
        "print(\"voted_classifier accuracy percent:\", (nltk.classify.accuracy(voted_classifier, testing_set))*100)\n",
        "\n",
        "print(\"Classification: \", voted_classifier.classify(testing_set[0][0]), \n",
        "      \"Confidence %:\", voted_classifier.confidence(testing_set[0][0]))"
      ],
      "metadata": {
        "colab": {
          "base_uri": "https://localhost:8080/"
        },
        "id": "ItE7K7MoAwSe",
        "outputId": "0e821e79-963d-4625-9255-a598c65d7743"
      },
      "execution_count": null,
      "outputs": [
        {
          "output_type": "stream",
          "name": "stdout",
          "text": [
            "voted_classifier accuracy percent: 84.0\n",
            "Classification:  pos Confidence %: 1.0\n"
          ]
        }
      ]
    },
    {
      "cell_type": "code",
      "source": [],
      "metadata": {
        "id": "ZtjKWbr_GqPE"
      },
      "execution_count": null,
      "outputs": []
    },
    {
      "cell_type": "code",
      "source": [],
      "metadata": {
        "id": "J4iMJ7MKL4fV"
      },
      "execution_count": null,
      "outputs": []
    }
  ]
}